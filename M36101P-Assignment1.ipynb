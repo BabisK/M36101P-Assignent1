{
 "cells": [
  {
   "cell_type": "markdown",
   "metadata": {},
   "source": [
    "Import needed libraries"
   ]
  },
  {
   "cell_type": "code",
   "execution_count": 1,
   "metadata": {
    "collapsed": false,
    "scrolled": true
   },
   "outputs": [],
   "source": [
    "import pandas\n",
    "import numpy"
   ]
  },
  {
   "cell_type": "code",
   "execution_count": null,
   "metadata": {
    "collapsed": false
   },
   "outputs": [],
   "source": [
    "donations_data_types = {'cmte_id':numpy.str, 'cand_id':numpy.str, 'cand_nm':numpy.str, \n",
    "                        'contbr_nm':numpy.str, 'contbr_city':numpy.str, 'contbr_st':numpy.str, \n",
    "                        'contbr_zip':numpy.str, 'contbr_employer':numpy.str, 'contbr_occupation':numpy.str,\n",
    "                        'contb_receipt_amt':numpy.float, 'contb_receipt_dt':numpy.str, 'receipt_desc':numpy.str, \n",
    "                        'memo_cd':numpy.str, 'memo_text':numpy.str, 'form_tp':numpy.str,\n",
    "                        'file_num':numpy.int, 'tran_id':numpy.str, 'election_tp':numpy.str}\n",
    "donations = pandas.read_csv(\"donations/P00000001-ALL.csv\", dtype = donations_data_types, index_col = False)"
   ]
  },
  {
   "cell_type": "code",
   "execution_count": 4,
   "metadata": {
    "collapsed": false
   },
   "outputs": [],
   "source": [
    "p1_col_names = ['FILEID', 'STUSAB', 'CHARITER', 'CIFSN', 'LOGRECNO', 'P0010001']\n",
    "p1 = pandas.read_csv('sf1/us000012010.sf1', index_col = False, header = None, names = p1_col_names)"
   ]
  },
  {
   "cell_type": "code",
   "execution_count": 10,
   "metadata": {
    "collapsed": false
   },
   "outputs": [],
   "source": [
    "sf1geo_column_widths = [6, 2, 3, 2, 3, 2, 7, 1, 1, 2, 3, 2, 2, 5, 2, 2, 5, 2, 2, 6, 1, 4, 2, 5, 2, 2, 4, 5, 2, 1, 3, 5, 2, 6, 1, 5, 2, 5, 2, 5, 3, 5, 2, 5, 3, 1, 1, 5, 2, 1, 1, 2, 3, 3, 6, 1, 3, 5, 5, 2, 5, 5, 5, 14, 14, 90, 1, 1, 9, 9, 11, 12, 2, 1, 6, 5, 8, 8, 8, 8, 8, 8, 8, 8, 8, 2, 2, 2, 3, 3, 3, 3, 3, 3, 2, 2, 2, 1, 1, 5, 18]\n",
    "sf1geo = pandas.read_fwf('sf1/usgeo2010.sf1', index_col = False, header = None, widths = sf1geo_column_widths)"
   ]
  },
  {
   "cell_type": "code",
   "execution_count": 12,
   "metadata": {
    "collapsed": false
   },
   "outputs": [
    {
     "name": "stdout",
     "output_type": "stream",
     "text": [
      "     0   1    2   3    4    5    6    7    8    9   ...   91  92   93   94   \\\n",
      "1  SF1US  US   10  89    0  NaN    2  NaN  NaN  NaN ...   NaN NaN  NaN  NaN   \n",
      "\n",
      "  95   96   97  98   99   100  \n",
      "1 NaN  NaN  NaN NaN  NaN  NaN  \n",
      "\n",
      "[1 rows x 101 columns]\n"
     ]
    }
   ],
   "source": [
    "print(sf1geo[1:2])"
   ]
  },
  {
   "cell_type": "code",
   "execution_count": null,
   "metadata": {
    "collapsed": true
   },
   "outputs": [],
   "source": []
  }
 ],
 "metadata": {
  "kernelspec": {
   "display_name": "Python 3",
   "language": "python",
   "name": "python3"
  },
  "language_info": {
   "codemirror_mode": {
    "name": "ipython",
    "version": 3
   },
   "file_extension": ".py",
   "mimetype": "text/x-python",
   "name": "python",
   "nbconvert_exporter": "python",
   "pygments_lexer": "ipython3",
   "version": "3.5.1"
  }
 },
 "nbformat": 4,
 "nbformat_minor": 0
}
