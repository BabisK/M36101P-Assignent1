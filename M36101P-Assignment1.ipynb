{
 "cells": [
  {
   "cell_type": "markdown",
   "metadata": {},
   "source": [
    "# Practical Data Science\n",
    "## Assignment 1"
   ]
  },
  {
   "cell_type": "markdown",
   "metadata": {},
   "source": [
    "### Environment Initialization"
   ]
  },
  {
   "cell_type": "markdown",
   "metadata": {},
   "source": [
    "Enable ploting inline within notebook"
   ]
  },
  {
   "cell_type": "code",
   "execution_count": 2,
   "metadata": {
    "collapsed": false
   },
   "outputs": [],
   "source": [
    "%matplotlib inline"
   ]
  },
  {
   "cell_type": "markdown",
   "metadata": {},
   "source": [
    "Import necessary libraries"
   ]
  },
  {
   "cell_type": "code",
   "execution_count": 3,
   "metadata": {
    "collapsed": false,
    "scrolled": true
   },
   "outputs": [
    {
     "name": "stderr",
     "output_type": "stream",
     "text": [
      "/home/ckaidos/datascience/env/lib/python3.4/site-packages/matplotlib/__init__.py:872: UserWarning: axes.color_cycle is deprecated and replaced with axes.prop_cycle; please use the latter.\n",
      "  warnings.warn(self.msg_depr % (key, alt_key))\n"
     ]
    }
   ],
   "source": [
    "import pandas\n",
    "import numpy\n",
    "import seaborn\n",
    "import re\n",
    "import difflib\n",
    "import os.path\n",
    "import zipfile\n",
    "import urllib\n",
    "import datetime"
   ]
  },
  {
   "cell_type": "markdown",
   "metadata": {},
   "source": [
    "### Import and clean data"
   ]
  },
  {
   "cell_type": "markdown",
   "metadata": {},
   "source": [
    "#### Campaign donations data set"
   ]
  },
  {
   "cell_type": "markdown",
   "metadata": {},
   "source": [
    "We import the campaign donations data set. The data can be found [here](ftp://ftp.fec.gov/FEC/Presidential_Map/2012/P00000001/P00000001-ALL.zip). The dictionary of this data set is [here](ftp://ftp.fec.gov/FEC/Presidential_Map/2012/DATA_DICTIONARIES/CONTRIBUTOR_FORMAT.txt). From the dictionary we can get the datatypes."
   ]
  },
  {
   "cell_type": "code",
   "execution_count": 4,
   "metadata": {
    "collapsed": false
   },
   "outputs": [],
   "source": [
    "# Caching datetime parser. Speeds up enormously in exchange for memory consumption.\n",
    "def parse_datetime(dt_array, cache=None):\n",
    "    months = {'JAN':1, 'FEB':2, 'MAR':3, 'APR':4, 'MAY':5, 'JUN':6, 'JUL':7, 'AUG':8, 'SEP':9, 'OCT':10, 'NOV':11, 'DEC':12}\n",
    "    if cache is None:\n",
    "        cache = {}\n",
    "    date_time = numpy.empty(len(dt_array), dtype=object)\n",
    "    for i, d_str in enumerate(dt_array):\n",
    "        try:\n",
    "            date_time[i] = cache[d_str]\n",
    "        except KeyError:\n",
    "            day, month, year = [str(item) for item in d_str[:12].split('-')]\n",
    "            date_time[i] = pandas.to_datetime(int(year)*10000 + months[month]*100 + int(day), format='%y%m%d')\n",
    "            cache[d_str] = date_time[i]\n",
    "    return pandas.to_datetime(date_time,infer_datetime_format=True)\n",
    "\n",
    "if not os.path.isfile('donations/P00000001-ALL.csv'):\n",
    "    if not os.path.isfile('donations/P00000001-ALL.zip'):\n",
    "        urllib.request.urlretrieve('ftp://ftp.fec.gov/FEC/Presidential_Map/2012/P00000001/P00000001-ALL.zip',\n",
    "                                   filename = 'donations/P00000001-ALL.zip')\n",
    "    zipped_data_set = zipfile.ZipFile('donations/P00000001-ALL.zip')\n",
    "    zipped_data_set.extractall('donations/')\n",
    "    \n",
    "\n",
    "donations_data_types = {'cmte_id':numpy.str, 'cand_id':numpy.str, 'cand_nm':numpy.str, \n",
    "                        'contbr_nm':numpy.str, 'contbr_city':numpy.str, 'contbr_st':numpy.str, \n",
    "                        'contbr_zip':numpy.str, 'contbr_employer':numpy.str, 'contbr_occupation':numpy.str,\n",
    "                        'contb_receipt_amt':numpy.float, 'contb_receipt_dt':numpy.str, 'receipt_desc':numpy.str, \n",
    "                        'memo_cd':numpy.str, 'memo_text':numpy.str, 'form_tp':numpy.str,\n",
    "                        'file_num':numpy.int, 'tran_id':numpy.str, 'election_tp':numpy.str}\n",
    "donations = pandas.read_csv(\"donations/P00000001-ALL.csv\", dtype = donations_data_types, index_col = False,\n",
    "                           date_parser=parse_datetime, parse_dates=['contb_receipt_dt'])"
   ]
  },
  {
   "cell_type": "markdown",
   "metadata": {},
   "source": [
    "The `election_tp` column indicates the election for which the contribution was made. The posible values are:"
   ]
  },
  {
   "cell_type": "code",
   "execution_count": 7,
   "metadata": {
    "collapsed": false
   },
   "outputs": [
    {
     "data": {
      "text/plain": [
       "array(['P2012', 'G2012', nan, 'P2008', 'G2008', 'O2012', 'P2102', 'P2014',\n",
       "       'P', 'P2011'], dtype=object)"
      ]
     },
     "execution_count": 7,
     "metadata": {},
     "output_type": "execute_result"
    }
   ],
   "source": [
    "donations.election_tp.unique()"
   ]
  },
  {
   "cell_type": "markdown",
   "metadata": {},
   "source": [
    "We observer that there are entries refering to the campaigns of 2008, as well as entries that seem like typos. We will investigate each one."
   ]
  },
  {
   "cell_type": "markdown",
   "metadata": {},
   "source": [
    "The `P2008` and `G2008` values. There are 767 entries that refer to the 2008 primaries and general elections."
   ]
  },
  {
   "cell_type": "code",
   "execution_count": 8,
   "metadata": {
    "collapsed": false
   },
   "outputs": [
    {
     "data": {
      "text/plain": [
       "767"
      ]
     },
     "execution_count": 8,
     "metadata": {},
     "output_type": "execute_result"
    }
   ],
   "source": [
    "len(donations[donations.election_tp.isin(['P2008', 'G2008'])])"
   ]
  },
  {
   "cell_type": "code",
   "execution_count": 9,
   "metadata": {
    "collapsed": false
   },
   "outputs": [
    {
     "data": {
      "text/plain": [
       "array(['2012-12-31T02:00:00.000000000+0200',\n",
       "       '2011-06-30T03:00:00.000000000+0300',\n",
       "       '2011-06-29T03:00:00.000000000+0300',\n",
       "       '2011-06-27T03:00:00.000000000+0300',\n",
       "       '2011-09-02T03:00:00.000000000+0300',\n",
       "       '2012-08-23T03:00:00.000000000+0300',\n",
       "       '2011-06-28T03:00:00.000000000+0300',\n",
       "       '2012-05-22T03:00:00.000000000+0300',\n",
       "       '2012-08-11T03:00:00.000000000+0300',\n",
       "       '2012-01-28T02:00:00.000000000+0200',\n",
       "       '2012-03-23T02:00:00.000000000+0200',\n",
       "       '2012-05-29T03:00:00.000000000+0300',\n",
       "       '2012-07-09T03:00:00.000000000+0300',\n",
       "       '2012-06-13T03:00:00.000000000+0300',\n",
       "       '2011-08-22T03:00:00.000000000+0300',\n",
       "       '2012-09-21T03:00:00.000000000+0300',\n",
       "       '2012-02-10T02:00:00.000000000+0200',\n",
       "       '2011-06-24T03:00:00.000000000+0300',\n",
       "       '2011-06-17T03:00:00.000000000+0300',\n",
       "       '2012-06-22T03:00:00.000000000+0300',\n",
       "       '2012-10-01T03:00:00.000000000+0300',\n",
       "       '2011-07-28T03:00:00.000000000+0300',\n",
       "       '1971-02-21T02:00:00.000000000+0200',\n",
       "       '1980-04-02T03:00:00.000000000+0300',\n",
       "       '1980-03-29T02:00:00.000000000+0200',\n",
       "       '1980-03-27T02:00:00.000000000+0200',\n",
       "       '1971-02-27T02:00:00.000000000+0200'], dtype='datetime64[ns]')"
      ]
     },
     "execution_count": 9,
     "metadata": {},
     "output_type": "execute_result"
    }
   ],
   "source": [
    "donations.contb_receipt_dt[donations.election_tp.isin(['P2008', 'G2008'])].unique()"
   ]
  },
  {
   "cell_type": "markdown",
   "metadata": {},
   "source": [
    "We observe that there are some very old entries dated in 2008 and 2007. Let's have a look."
   ]
  },
  {
   "cell_type": "code",
   "execution_count": 10,
   "metadata": {
    "collapsed": false
   },
   "outputs": [
    {
     "data": {
      "text/html": [
       "<div>\n",
       "<table border=\"1\" class=\"dataframe\">\n",
       "  <thead>\n",
       "    <tr style=\"text-align: right;\">\n",
       "      <th></th>\n",
       "      <th>cmte_id</th>\n",
       "      <th>cand_id</th>\n",
       "      <th>cand_nm</th>\n",
       "      <th>contbr_nm</th>\n",
       "      <th>contbr_city</th>\n",
       "      <th>contbr_st</th>\n",
       "      <th>contbr_zip</th>\n",
       "      <th>contbr_employer</th>\n",
       "      <th>contbr_occupation</th>\n",
       "      <th>contb_receipt_amt</th>\n",
       "      <th>contb_receipt_dt</th>\n",
       "      <th>receipt_desc</th>\n",
       "      <th>memo_cd</th>\n",
       "      <th>memo_text</th>\n",
       "      <th>form_tp</th>\n",
       "      <th>file_num</th>\n",
       "      <th>tran_id</th>\n",
       "      <th>election_tp</th>\n",
       "    </tr>\n",
       "  </thead>\n",
       "  <tbody>\n",
       "    <tr>\n",
       "      <th>5753551</th>\n",
       "      <td>C00495820</td>\n",
       "      <td>P80000748</td>\n",
       "      <td>Paul, Ron</td>\n",
       "      <td>SIGMUNDSON, DALE MR.</td>\n",
       "      <td>DANVILLE</td>\n",
       "      <td>CA</td>\n",
       "      <td>945268203</td>\n",
       "      <td>NONE</td>\n",
       "      <td>NONE</td>\n",
       "      <td>20.00</td>\n",
       "      <td>1971-02-21</td>\n",
       "      <td>NaN</td>\n",
       "      <td>X</td>\n",
       "      <td>MEMO</td>\n",
       "      <td>SA17A</td>\n",
       "      <td>799137</td>\n",
       "      <td>0355783-0002</td>\n",
       "      <td>P2008</td>\n",
       "    </tr>\n",
       "    <tr>\n",
       "      <th>5754624</th>\n",
       "      <td>C00495820</td>\n",
       "      <td>P80000748</td>\n",
       "      <td>Paul, Ron</td>\n",
       "      <td>LINK, KIMBERLY E</td>\n",
       "      <td>TEHACHAPI</td>\n",
       "      <td>CA</td>\n",
       "      <td>935618099</td>\n",
       "      <td>NONE</td>\n",
       "      <td>HOMEMAKER</td>\n",
       "      <td>136.91</td>\n",
       "      <td>1980-04-02</td>\n",
       "      <td>REATTRIBUTED</td>\n",
       "      <td>X</td>\n",
       "      <td>REATTRIBUTED</td>\n",
       "      <td>SA17A</td>\n",
       "      <td>799137</td>\n",
       "      <td>0360183-0001</td>\n",
       "      <td>P2008</td>\n",
       "    </tr>\n",
       "    <tr>\n",
       "      <th>5785949</th>\n",
       "      <td>C00495820</td>\n",
       "      <td>P80000748</td>\n",
       "      <td>Paul, Ron</td>\n",
       "      <td>MARTINDALE, SANDRA A.</td>\n",
       "      <td>SPENCERVILLE</td>\n",
       "      <td>IN</td>\n",
       "      <td>46788</td>\n",
       "      <td>NONE</td>\n",
       "      <td>HOUSEWIFE</td>\n",
       "      <td>120.08</td>\n",
       "      <td>1980-03-29</td>\n",
       "      <td>REATTRIBUTED</td>\n",
       "      <td>X</td>\n",
       "      <td>REATTRIBUTED</td>\n",
       "      <td>SA17A</td>\n",
       "      <td>799156</td>\n",
       "      <td>0390440-0001</td>\n",
       "      <td>P2008</td>\n",
       "    </tr>\n",
       "    <tr>\n",
       "      <th>5793157</th>\n",
       "      <td>C00495820</td>\n",
       "      <td>P80000748</td>\n",
       "      <td>Paul, Ron</td>\n",
       "      <td>STACEY, ROBERTA</td>\n",
       "      <td>BEVERLY</td>\n",
       "      <td>MA</td>\n",
       "      <td>019153827</td>\n",
       "      <td>LANDMARK SCHOOL</td>\n",
       "      <td>SPEECH PATHOLOGIST</td>\n",
       "      <td>41.76</td>\n",
       "      <td>1980-04-02</td>\n",
       "      <td>REATTRIBUTED</td>\n",
       "      <td>X</td>\n",
       "      <td>REATTRIBUTED</td>\n",
       "      <td>SA17A</td>\n",
       "      <td>799137</td>\n",
       "      <td>0339549-0001</td>\n",
       "      <td>P2008</td>\n",
       "    </tr>\n",
       "    <tr>\n",
       "      <th>5811691</th>\n",
       "      <td>C00495820</td>\n",
       "      <td>P80000748</td>\n",
       "      <td>Paul, Ron</td>\n",
       "      <td>ROBINSON, VERNON L. MR.</td>\n",
       "      <td>WINSTON SALEM</td>\n",
       "      <td>NC</td>\n",
       "      <td>271035742</td>\n",
       "      <td>SELF EMPLOYED</td>\n",
       "      <td>CONSULTANT</td>\n",
       "      <td>100.00</td>\n",
       "      <td>1971-02-21</td>\n",
       "      <td>NaN</td>\n",
       "      <td>X</td>\n",
       "      <td>MEMO</td>\n",
       "      <td>SA17A</td>\n",
       "      <td>799137</td>\n",
       "      <td>0355783-0001</td>\n",
       "      <td>P2008</td>\n",
       "    </tr>\n",
       "    <tr>\n",
       "      <th>5811874</th>\n",
       "      <td>C00495820</td>\n",
       "      <td>P80000748</td>\n",
       "      <td>Paul, Ron</td>\n",
       "      <td>CLARY, JUNE L.</td>\n",
       "      <td>BRYSON CITY</td>\n",
       "      <td>NC</td>\n",
       "      <td>287136731</td>\n",
       "      <td>NONE</td>\n",
       "      <td>RETIRED</td>\n",
       "      <td>1000.00</td>\n",
       "      <td>1980-03-27</td>\n",
       "      <td>REATTRIBUTED</td>\n",
       "      <td>X</td>\n",
       "      <td>REATTRIBUTED</td>\n",
       "      <td>SA17A</td>\n",
       "      <td>799137</td>\n",
       "      <td>0353001-0001</td>\n",
       "      <td>P2008</td>\n",
       "    </tr>\n",
       "    <tr>\n",
       "      <th>5814866</th>\n",
       "      <td>C00495820</td>\n",
       "      <td>P80000748</td>\n",
       "      <td>Paul, Ron</td>\n",
       "      <td>EAN, GARRET C MR.</td>\n",
       "      <td>CONCORD</td>\n",
       "      <td>NH</td>\n",
       "      <td>033012551</td>\n",
       "      <td>PHYTEK INDUSTRIES</td>\n",
       "      <td>WOOD WORKING</td>\n",
       "      <td>25.00</td>\n",
       "      <td>1971-02-27</td>\n",
       "      <td>NaN</td>\n",
       "      <td>X</td>\n",
       "      <td>MEMO</td>\n",
       "      <td>SA17A</td>\n",
       "      <td>799156</td>\n",
       "      <td>0377048-0003</td>\n",
       "      <td>P2008</td>\n",
       "    </tr>\n",
       "    <tr>\n",
       "      <th>5838450</th>\n",
       "      <td>C00495820</td>\n",
       "      <td>P80000748</td>\n",
       "      <td>Paul, Ron</td>\n",
       "      <td>LYDEN, CARA MR.</td>\n",
       "      <td>WERNERSVILLE</td>\n",
       "      <td>PA</td>\n",
       "      <td>195659202</td>\n",
       "      <td>INTERLINK MANAGEMENT</td>\n",
       "      <td>HUMANITARIAN</td>\n",
       "      <td>50.00</td>\n",
       "      <td>1971-02-27</td>\n",
       "      <td>NaN</td>\n",
       "      <td>X</td>\n",
       "      <td>MEMO</td>\n",
       "      <td>SA17A</td>\n",
       "      <td>799156</td>\n",
       "      <td>0377048-0002</td>\n",
       "      <td>P2008</td>\n",
       "    </tr>\n",
       "    <tr>\n",
       "      <th>5849004</th>\n",
       "      <td>C00495820</td>\n",
       "      <td>P80000748</td>\n",
       "      <td>Paul, Ron</td>\n",
       "      <td>MABRY, BRIAN E MRS.</td>\n",
       "      <td>MEMPHIS</td>\n",
       "      <td>TN</td>\n",
       "      <td>381198509</td>\n",
       "      <td>UNIVERSITY OF MEMPHIS</td>\n",
       "      <td>STUDENT</td>\n",
       "      <td>25.00</td>\n",
       "      <td>1971-02-27</td>\n",
       "      <td>NaN</td>\n",
       "      <td>X</td>\n",
       "      <td>MEMO</td>\n",
       "      <td>SA17A</td>\n",
       "      <td>799156</td>\n",
       "      <td>0377048-0001</td>\n",
       "      <td>P2008</td>\n",
       "    </tr>\n",
       "    <tr>\n",
       "      <th>5872591</th>\n",
       "      <td>C00495820</td>\n",
       "      <td>P80000748</td>\n",
       "      <td>Paul, Ron</td>\n",
       "      <td>CLARK, RICHARD</td>\n",
       "      <td>SPOKANE</td>\n",
       "      <td>WA</td>\n",
       "      <td>992031015</td>\n",
       "      <td>SELF</td>\n",
       "      <td>RADIOLOGIST</td>\n",
       "      <td>219.00</td>\n",
       "      <td>1980-03-27</td>\n",
       "      <td>REATTRIBUTED</td>\n",
       "      <td>X</td>\n",
       "      <td>REATTRIBUTED</td>\n",
       "      <td>SA17A</td>\n",
       "      <td>799137</td>\n",
       "      <td>0348991-0001</td>\n",
       "      <td>P2008</td>\n",
       "    </tr>\n",
       "  </tbody>\n",
       "</table>\n",
       "</div>"
      ],
      "text/plain": [
       "           cmte_id    cand_id    cand_nm                contbr_nm  \\\n",
       "5753551  C00495820  P80000748  Paul, Ron     SIGMUNDSON, DALE MR.   \n",
       "5754624  C00495820  P80000748  Paul, Ron         LINK, KIMBERLY E   \n",
       "5785949  C00495820  P80000748  Paul, Ron    MARTINDALE, SANDRA A.   \n",
       "5793157  C00495820  P80000748  Paul, Ron          STACEY, ROBERTA   \n",
       "5811691  C00495820  P80000748  Paul, Ron  ROBINSON, VERNON L. MR.   \n",
       "5811874  C00495820  P80000748  Paul, Ron           CLARY, JUNE L.   \n",
       "5814866  C00495820  P80000748  Paul, Ron        EAN, GARRET C MR.   \n",
       "5838450  C00495820  P80000748  Paul, Ron          LYDEN, CARA MR.   \n",
       "5849004  C00495820  P80000748  Paul, Ron      MABRY, BRIAN E MRS.   \n",
       "5872591  C00495820  P80000748  Paul, Ron           CLARK, RICHARD   \n",
       "\n",
       "           contbr_city contbr_st contbr_zip        contbr_employer  \\\n",
       "5753551       DANVILLE        CA  945268203                   NONE   \n",
       "5754624      TEHACHAPI        CA  935618099                   NONE   \n",
       "5785949   SPENCERVILLE        IN      46788                   NONE   \n",
       "5793157        BEVERLY        MA  019153827        LANDMARK SCHOOL   \n",
       "5811691  WINSTON SALEM        NC  271035742          SELF EMPLOYED   \n",
       "5811874    BRYSON CITY        NC  287136731                   NONE   \n",
       "5814866        CONCORD        NH  033012551      PHYTEK INDUSTRIES   \n",
       "5838450   WERNERSVILLE        PA  195659202   INTERLINK MANAGEMENT   \n",
       "5849004        MEMPHIS        TN  381198509  UNIVERSITY OF MEMPHIS   \n",
       "5872591        SPOKANE        WA  992031015                   SELF   \n",
       "\n",
       "          contbr_occupation  contb_receipt_amt contb_receipt_dt  receipt_desc  \\\n",
       "5753551                NONE              20.00       1971-02-21           NaN   \n",
       "5754624           HOMEMAKER             136.91       1980-04-02  REATTRIBUTED   \n",
       "5785949           HOUSEWIFE             120.08       1980-03-29  REATTRIBUTED   \n",
       "5793157  SPEECH PATHOLOGIST              41.76       1980-04-02  REATTRIBUTED   \n",
       "5811691          CONSULTANT             100.00       1971-02-21           NaN   \n",
       "5811874             RETIRED            1000.00       1980-03-27  REATTRIBUTED   \n",
       "5814866        WOOD WORKING              25.00       1971-02-27           NaN   \n",
       "5838450        HUMANITARIAN              50.00       1971-02-27           NaN   \n",
       "5849004             STUDENT              25.00       1971-02-27           NaN   \n",
       "5872591         RADIOLOGIST             219.00       1980-03-27  REATTRIBUTED   \n",
       "\n",
       "        memo_cd     memo_text form_tp  file_num       tran_id election_tp  \n",
       "5753551       X          MEMO   SA17A    799137  0355783-0002       P2008  \n",
       "5754624       X  REATTRIBUTED   SA17A    799137  0360183-0001       P2008  \n",
       "5785949       X  REATTRIBUTED   SA17A    799156  0390440-0001       P2008  \n",
       "5793157       X  REATTRIBUTED   SA17A    799137  0339549-0001       P2008  \n",
       "5811691       X          MEMO   SA17A    799137  0355783-0001       P2008  \n",
       "5811874       X  REATTRIBUTED   SA17A    799137  0353001-0001       P2008  \n",
       "5814866       X          MEMO   SA17A    799156  0377048-0003       P2008  \n",
       "5838450       X          MEMO   SA17A    799156  0377048-0002       P2008  \n",
       "5849004       X          MEMO   SA17A    799156  0377048-0001       P2008  \n",
       "5872591       X  REATTRIBUTED   SA17A    799137  0348991-0001       P2008  "
      ]
     },
     "execution_count": 10,
     "metadata": {},
     "output_type": "execute_result"
    }
   ],
   "source": [
    "donations[(donations.election_tp.isin(['P2008', 'G2008'])) & (donations.contb_receipt_dt <= '2009')]"
   ]
  },
  {
   "cell_type": "markdown",
   "metadata": {},
   "source": [
    "They all are donations to Ron Paul for his 2008 primaries campaign. Some of them are commented as reattributions. The amounts are rather small and we opt to remove them to focus on the donations made during 2011-2012."
   ]
  },
  {
   "cell_type": "code",
   "execution_count": 11,
   "metadata": {
    "collapsed": false
   },
   "outputs": [],
   "source": [
    "donations = donations[~((donations.election_tp.isin(['P2008', 'G2008'])) & (donations.contb_receipt_dt <= '2009'))]"
   ]
  },
  {
   "cell_type": "markdown",
   "metadata": {},
   "source": [
    "We still have receipts for the 2008 campaigns. Let's investigate further."
   ]
  },
  {
   "cell_type": "code",
   "execution_count": 12,
   "metadata": {
    "collapsed": false
   },
   "outputs": [
    {
     "data": {
      "text/plain": [
       "array(['Obama, Barack'], dtype=object)"
      ]
     },
     "execution_count": 12,
     "metadata": {},
     "output_type": "execute_result"
    }
   ],
   "source": [
    "donations.cand_nm[donations.election_tp.isin(['P2008', 'G2008'])].unique()"
   ]
  },
  {
   "cell_type": "code",
   "execution_count": 13,
   "metadata": {
    "collapsed": false
   },
   "outputs": [
    {
     "data": {
      "text/plain": [
       "0"
      ]
     },
     "execution_count": 13,
     "metadata": {},
     "output_type": "execute_result"
    }
   ],
   "source": [
    "len(donations[(donations.election_tp.isin(['P2008', 'G2008'])) & (donations.contb_receipt_amt > 0)])"
   ]
  },
  {
   "cell_type": "code",
   "execution_count": 14,
   "metadata": {
    "collapsed": false
   },
   "outputs": [
    {
     "data": {
      "text/plain": [
       "array(['Refund'], dtype=object)"
      ]
     },
     "execution_count": 14,
     "metadata": {},
     "output_type": "execute_result"
    }
   ],
   "source": [
    "donations.receipt_desc[(donations.election_tp.isin(['P2008', 'G2008'])) & (donations.contb_receipt_amt < 0)].unique()"
   ]
  },
  {
   "cell_type": "markdown",
   "metadata": {},
   "source": [
    "We observe that all the rest receipts are refunds that Obama made for the donations he received for his 2008 campaign. So we can remove those entries too."
   ]
  },
  {
   "cell_type": "code",
   "execution_count": 15,
   "metadata": {
    "collapsed": true
   },
   "outputs": [],
   "source": [
    "donations = donations[~((donations.election_tp.isin(['P2008', 'G2008'])) & (donations.contb_receipt_amt < 0))]"
   ]
  },
  {
   "cell_type": "code",
   "execution_count": 16,
   "metadata": {
    "collapsed": false
   },
   "outputs": [
    {
     "data": {
      "text/plain": [
       "array(['P2012', 'G2012', nan, 'O2012', 'P2102', 'P2014', 'P', 'P2011'], dtype=object)"
      ]
     },
     "execution_count": 16,
     "metadata": {},
     "output_type": "execute_result"
    }
   ],
   "source": [
    "donations.election_tp.unique()"
   ]
  },
  {
   "cell_type": "markdown",
   "metadata": {},
   "source": [
    "Probably the `P2102` is a typo for `P2012`. Let's change those to `P2012`."
   ]
  },
  {
   "cell_type": "code",
   "execution_count": 17,
   "metadata": {
    "collapsed": false
   },
   "outputs": [],
   "source": [
    "donations.replace(to_replace = {'election_tp': {'P2102': 'P2012'}}, inplace = True)"
   ]
  },
  {
   "cell_type": "code",
   "execution_count": 18,
   "metadata": {
    "collapsed": false
   },
   "outputs": [
    {
     "data": {
      "text/plain": [
       "array(['P2012', 'G2012', nan, 'O2012', 'P2014', 'P', 'P2011'], dtype=object)"
      ]
     },
     "execution_count": 18,
     "metadata": {},
     "output_type": "execute_result"
    }
   ],
   "source": [
    "donations.election_tp.unique()"
   ]
  },
  {
   "cell_type": "markdown",
   "metadata": {},
   "source": [
    "Now let's investigate the entries with value `P`"
   ]
  },
  {
   "cell_type": "code",
   "execution_count": 19,
   "metadata": {
    "collapsed": false
   },
   "outputs": [
    {
     "data": {
      "text/plain": [
       "array(['Gingrich, Newt'], dtype=object)"
      ]
     },
     "execution_count": 19,
     "metadata": {},
     "output_type": "execute_result"
    }
   ],
   "source": [
    "donations.cand_nm[donations.election_tp == 'P'].unique()"
   ]
  },
  {
   "cell_type": "markdown",
   "metadata": {},
   "source": [
    "They are all for candidate Newt Gingrich. Maybe there was a bored employee entering data. Newt Gingrich was indeed candidate for the Republican primaries in 2012 so the value should probably be `P2012`."
   ]
  },
  {
   "cell_type": "code",
   "execution_count": 20,
   "metadata": {
    "collapsed": true
   },
   "outputs": [],
   "source": [
    "donations.replace(to_replace = {'election_tp': {'P': 'P2012'}}, inplace = True)"
   ]
  },
  {
   "cell_type": "code",
   "execution_count": 21,
   "metadata": {
    "collapsed": false
   },
   "outputs": [
    {
     "data": {
      "text/plain": [
       "array(['P2012', 'G2012', nan, 'O2012', 'P2014', 'P2011'], dtype=object)"
      ]
     },
     "execution_count": 21,
     "metadata": {},
     "output_type": "execute_result"
    }
   ],
   "source": [
    "donations.election_tp.unique()"
   ]
  },
  {
   "cell_type": "code",
   "execution_count": 22,
   "metadata": {
    "collapsed": false
   },
   "outputs": [
    {
     "data": {
      "text/plain": [
       "array(['Perry, Rick'], dtype=object)"
      ]
     },
     "execution_count": 22,
     "metadata": {},
     "output_type": "execute_result"
    }
   ],
   "source": [
    "donations.cand_nm[donations.election_tp == 'P2011'].unique()"
   ]
  },
  {
   "cell_type": "markdown",
   "metadata": {},
   "source": [
    "All `P2011` entries are for Rick Perry, a Republican primaries candidate for the 2012 elections. Clearly these entries should be `P2012` as there where no primaries in 2011."
   ]
  },
  {
   "cell_type": "code",
   "execution_count": 23,
   "metadata": {
    "collapsed": true
   },
   "outputs": [],
   "source": [
    "donations.replace(to_replace = {'election_tp': {'P2011': 'P2012'}}, inplace = True)"
   ]
  },
  {
   "cell_type": "code",
   "execution_count": 24,
   "metadata": {
    "collapsed": false
   },
   "outputs": [
    {
     "data": {
      "text/plain": [
       "array(['P2012', 'G2012', nan, 'O2012', 'P2014'], dtype=object)"
      ]
     },
     "execution_count": 24,
     "metadata": {},
     "output_type": "execute_result"
    }
   ],
   "source": [
    "donations.election_tp.unique()"
   ]
  },
  {
   "cell_type": "markdown",
   "metadata": {},
   "source": [
    "Now we should investigate the `P2014` entries."
   ]
  },
  {
   "cell_type": "code",
   "execution_count": 25,
   "metadata": {
    "collapsed": false
   },
   "outputs": [
    {
     "data": {
      "text/plain": [
       "array(['Cain, Herman'], dtype=object)"
      ]
     },
     "execution_count": 25,
     "metadata": {},
     "output_type": "execute_result"
    }
   ],
   "source": [
    "donations.cand_nm[donations.election_tp == 'P2014'].unique()"
   ]
  },
  {
   "cell_type": "markdown",
   "metadata": {},
   "source": [
    "Herman Cain was indeed candidate for the Republican primaries in 2012 so the entries should be `P2012`."
   ]
  },
  {
   "cell_type": "code",
   "execution_count": 26,
   "metadata": {
    "collapsed": true
   },
   "outputs": [],
   "source": [
    "donations.replace(to_replace = {'election_tp': {'P2014': 'P2012'}}, inplace = True)"
   ]
  },
  {
   "cell_type": "code",
   "execution_count": 27,
   "metadata": {
    "collapsed": false
   },
   "outputs": [
    {
     "data": {
      "text/plain": [
       "array(['P2012', 'G2012', nan, 'O2012'], dtype=object)"
      ]
     },
     "execution_count": 27,
     "metadata": {},
     "output_type": "execute_result"
    }
   ],
   "source": [
    "donations.election_tp.unique()"
   ]
  },
  {
   "cell_type": "markdown",
   "metadata": {},
   "source": [
    "Investigating the `NaN`s we cannot make any further assumptions. We leave them as they are, they seem valid entries."
   ]
  },
  {
   "cell_type": "markdown",
   "metadata": {},
   "source": [
    "#### Dow Jones Industrial Average index data set"
   ]
  },
  {
   "cell_type": "markdown",
   "metadata": {},
   "source": [
    "We observe that contb_receipt_dt ranges from 1-1-2011 to 31-12-2012.\n",
    "\n",
    "We need to retrieve the DJIA index for these dates.\n",
    "\n",
    "Get DJIA data from https://research.stlouisfed.org/fred2/series/DJIA/downloaddata.\n",
    "\n",
    "We download the index file. We are interested in the timeframe starting from 1-1-2011 to 31-12-2012."
   ]
  },
  {
   "cell_type": "code",
   "execution_count": 34,
   "metadata": {
    "collapsed": false
   },
   "outputs": [],
   "source": [
    "djia_index_names = ['Date', 'Index']\n",
    "djia_index_dtypes = {'Date':numpy.str, 'Index':numpy.float}\n",
    "djia_index = pandas.read_csv(\"djia/index.csv\", index_col = False, header = 0, names = djia_index_names, dtype = djia_index_dtypes, parse_dates = ['Date'], na_values = '.')\n",
    "\n",
    "djia = djia_index"
   ]
  },
  {
   "cell_type": "markdown",
   "metadata": {},
   "source": [
    "Let's have a look at the data."
   ]
  },
  {
   "cell_type": "code",
   "execution_count": 35,
   "metadata": {
    "collapsed": false
   },
   "outputs": [
    {
     "data": {
      "text/html": [
       "<div>\n",
       "<table border=\"1\" class=\"dataframe\">\n",
       "  <thead>\n",
       "    <tr style=\"text-align: right;\">\n",
       "      <th></th>\n",
       "      <th>Date</th>\n",
       "      <th>Index</th>\n",
       "    </tr>\n",
       "  </thead>\n",
       "  <tbody>\n",
       "    <tr>\n",
       "      <th>0</th>\n",
       "      <td>2011-01-03</td>\n",
       "      <td>11670.75</td>\n",
       "    </tr>\n",
       "    <tr>\n",
       "      <th>1</th>\n",
       "      <td>2011-01-04</td>\n",
       "      <td>11691.18</td>\n",
       "    </tr>\n",
       "    <tr>\n",
       "      <th>2</th>\n",
       "      <td>2011-01-05</td>\n",
       "      <td>11722.89</td>\n",
       "    </tr>\n",
       "    <tr>\n",
       "      <th>3</th>\n",
       "      <td>2011-01-06</td>\n",
       "      <td>11697.31</td>\n",
       "    </tr>\n",
       "    <tr>\n",
       "      <th>4</th>\n",
       "      <td>2011-01-07</td>\n",
       "      <td>11674.76</td>\n",
       "    </tr>\n",
       "    <tr>\n",
       "      <th>5</th>\n",
       "      <td>2011-01-10</td>\n",
       "      <td>11637.45</td>\n",
       "    </tr>\n",
       "    <tr>\n",
       "      <th>6</th>\n",
       "      <td>2011-01-11</td>\n",
       "      <td>11671.88</td>\n",
       "    </tr>\n",
       "    <tr>\n",
       "      <th>7</th>\n",
       "      <td>2011-01-12</td>\n",
       "      <td>11755.44</td>\n",
       "    </tr>\n",
       "    <tr>\n",
       "      <th>8</th>\n",
       "      <td>2011-01-13</td>\n",
       "      <td>11731.90</td>\n",
       "    </tr>\n",
       "    <tr>\n",
       "      <th>9</th>\n",
       "      <td>2011-01-14</td>\n",
       "      <td>11787.38</td>\n",
       "    </tr>\n",
       "    <tr>\n",
       "      <th>10</th>\n",
       "      <td>2011-01-17</td>\n",
       "      <td>NaN</td>\n",
       "    </tr>\n",
       "    <tr>\n",
       "      <th>11</th>\n",
       "      <td>2011-01-18</td>\n",
       "      <td>11837.93</td>\n",
       "    </tr>\n",
       "    <tr>\n",
       "      <th>12</th>\n",
       "      <td>2011-01-19</td>\n",
       "      <td>11825.29</td>\n",
       "    </tr>\n",
       "    <tr>\n",
       "      <th>13</th>\n",
       "      <td>2011-01-20</td>\n",
       "      <td>11822.80</td>\n",
       "    </tr>\n",
       "    <tr>\n",
       "      <th>14</th>\n",
       "      <td>2011-01-21</td>\n",
       "      <td>11871.84</td>\n",
       "    </tr>\n",
       "    <tr>\n",
       "      <th>15</th>\n",
       "      <td>2011-01-24</td>\n",
       "      <td>11980.52</td>\n",
       "    </tr>\n",
       "    <tr>\n",
       "      <th>16</th>\n",
       "      <td>2011-01-25</td>\n",
       "      <td>11977.19</td>\n",
       "    </tr>\n",
       "    <tr>\n",
       "      <th>17</th>\n",
       "      <td>2011-01-26</td>\n",
       "      <td>11985.44</td>\n",
       "    </tr>\n",
       "    <tr>\n",
       "      <th>18</th>\n",
       "      <td>2011-01-27</td>\n",
       "      <td>11989.83</td>\n",
       "    </tr>\n",
       "    <tr>\n",
       "      <th>19</th>\n",
       "      <td>2011-01-28</td>\n",
       "      <td>11823.70</td>\n",
       "    </tr>\n",
       "  </tbody>\n",
       "</table>\n",
       "</div>"
      ],
      "text/plain": [
       "         Date     Index\n",
       "0  2011-01-03  11670.75\n",
       "1  2011-01-04  11691.18\n",
       "2  2011-01-05  11722.89\n",
       "3  2011-01-06  11697.31\n",
       "4  2011-01-07  11674.76\n",
       "5  2011-01-10  11637.45\n",
       "6  2011-01-11  11671.88\n",
       "7  2011-01-12  11755.44\n",
       "8  2011-01-13  11731.90\n",
       "9  2011-01-14  11787.38\n",
       "10 2011-01-17       NaN\n",
       "11 2011-01-18  11837.93\n",
       "12 2011-01-19  11825.29\n",
       "13 2011-01-20  11822.80\n",
       "14 2011-01-21  11871.84\n",
       "15 2011-01-24  11980.52\n",
       "16 2011-01-25  11977.19\n",
       "17 2011-01-26  11985.44\n",
       "18 2011-01-27  11989.83\n",
       "19 2011-01-28  11823.70"
      ]
     },
     "execution_count": 35,
     "metadata": {},
     "output_type": "execute_result"
    }
   ],
   "source": [
    "djia.head(20)"
   ]
  },
  {
   "cell_type": "markdown",
   "metadata": {},
   "source": [
    "We observer that there is no information about the weekends and the public holidays as the stock market is not open these days. Let's see how much of the donations happen the days the stock market is closed."
   ]
  },
  {
   "cell_type": "code",
   "execution_count": 36,
   "metadata": {
    "collapsed": false,
    "scrolled": true
   },
   "outputs": [
    {
     "name": "stdout",
     "output_type": "stream",
     "text": [
      "1091732 receipts the amount of which is 156671656.63\n",
      "Total receipts: 6035691 with total amount 1286475421.1\n"
     ]
    }
   ],
   "source": [
    "days_2011_2012 = pandas.date_range(start = '01-01-2011', end = '31-12-2012')\n",
    "closed_market = days_2011_2012[~days_2011_2012.isin(djia.Date)]\n",
    "print(str(len(donations.contb_receipt_amt[donations.contb_receipt_dt.isin(closed_market)])) + ' receipts the amount of which is ' + str(donations.contb_receipt_amt[donations.contb_receipt_dt.isin(closed_market)].sum()))\n",
    "print('Total receipts: ' + str(len(donations)) + ' with total amount ' + str(donations.contb_receipt_amt.sum()))"
   ]
  },
  {
   "cell_type": "markdown",
   "metadata": {},
   "source": [
    "This means that we are missing a significant amount of donations if we don't account for the days the stock market is closed. We can assume the index is unchanged when the market is closed and assign the previous index to these days."
   ]
  },
  {
   "cell_type": "code",
   "execution_count": 37,
   "metadata": {
    "collapsed": false
   },
   "outputs": [
    {
     "data": {
      "text/html": [
       "<div>\n",
       "<table border=\"1\" class=\"dataframe\">\n",
       "  <thead>\n",
       "    <tr style=\"text-align: right;\">\n",
       "      <th></th>\n",
       "      <th>Date</th>\n",
       "      <th>Index</th>\n",
       "    </tr>\n",
       "  </thead>\n",
       "  <tbody>\n",
       "    <tr>\n",
       "      <th>0</th>\n",
       "      <td>2011-01-01</td>\n",
       "      <td>NaN</td>\n",
       "    </tr>\n",
       "    <tr>\n",
       "      <th>1</th>\n",
       "      <td>2011-01-02</td>\n",
       "      <td>NaN</td>\n",
       "    </tr>\n",
       "    <tr>\n",
       "      <th>2</th>\n",
       "      <td>2011-01-03</td>\n",
       "      <td>11670.75</td>\n",
       "    </tr>\n",
       "    <tr>\n",
       "      <th>3</th>\n",
       "      <td>2011-01-04</td>\n",
       "      <td>11691.18</td>\n",
       "    </tr>\n",
       "    <tr>\n",
       "      <th>4</th>\n",
       "      <td>2011-01-05</td>\n",
       "      <td>11722.89</td>\n",
       "    </tr>\n",
       "    <tr>\n",
       "      <th>5</th>\n",
       "      <td>2011-01-06</td>\n",
       "      <td>11697.31</td>\n",
       "    </tr>\n",
       "    <tr>\n",
       "      <th>6</th>\n",
       "      <td>2011-01-07</td>\n",
       "      <td>11674.76</td>\n",
       "    </tr>\n",
       "    <tr>\n",
       "      <th>7</th>\n",
       "      <td>2011-01-08</td>\n",
       "      <td>11674.76</td>\n",
       "    </tr>\n",
       "    <tr>\n",
       "      <th>8</th>\n",
       "      <td>2011-01-09</td>\n",
       "      <td>11674.76</td>\n",
       "    </tr>\n",
       "    <tr>\n",
       "      <th>9</th>\n",
       "      <td>2011-01-10</td>\n",
       "      <td>11637.45</td>\n",
       "    </tr>\n",
       "    <tr>\n",
       "      <th>10</th>\n",
       "      <td>2011-01-11</td>\n",
       "      <td>11671.88</td>\n",
       "    </tr>\n",
       "    <tr>\n",
       "      <th>11</th>\n",
       "      <td>2011-01-12</td>\n",
       "      <td>11755.44</td>\n",
       "    </tr>\n",
       "    <tr>\n",
       "      <th>12</th>\n",
       "      <td>2011-01-13</td>\n",
       "      <td>11731.90</td>\n",
       "    </tr>\n",
       "    <tr>\n",
       "      <th>13</th>\n",
       "      <td>2011-01-14</td>\n",
       "      <td>11787.38</td>\n",
       "    </tr>\n",
       "    <tr>\n",
       "      <th>14</th>\n",
       "      <td>2011-01-15</td>\n",
       "      <td>11787.38</td>\n",
       "    </tr>\n",
       "    <tr>\n",
       "      <th>15</th>\n",
       "      <td>2011-01-16</td>\n",
       "      <td>11787.38</td>\n",
       "    </tr>\n",
       "    <tr>\n",
       "      <th>16</th>\n",
       "      <td>2011-01-17</td>\n",
       "      <td>11787.38</td>\n",
       "    </tr>\n",
       "    <tr>\n",
       "      <th>17</th>\n",
       "      <td>2011-01-18</td>\n",
       "      <td>11837.93</td>\n",
       "    </tr>\n",
       "    <tr>\n",
       "      <th>18</th>\n",
       "      <td>2011-01-19</td>\n",
       "      <td>11825.29</td>\n",
       "    </tr>\n",
       "    <tr>\n",
       "      <th>19</th>\n",
       "      <td>2011-01-20</td>\n",
       "      <td>11822.80</td>\n",
       "    </tr>\n",
       "  </tbody>\n",
       "</table>\n",
       "</div>"
      ],
      "text/plain": [
       "         Date     Index\n",
       "0  2011-01-01       NaN\n",
       "1  2011-01-02       NaN\n",
       "2  2011-01-03  11670.75\n",
       "3  2011-01-04  11691.18\n",
       "4  2011-01-05  11722.89\n",
       "5  2011-01-06  11697.31\n",
       "6  2011-01-07  11674.76\n",
       "7  2011-01-08  11674.76\n",
       "8  2011-01-09  11674.76\n",
       "9  2011-01-10  11637.45\n",
       "10 2011-01-11  11671.88\n",
       "11 2011-01-12  11755.44\n",
       "12 2011-01-13  11731.90\n",
       "13 2011-01-14  11787.38\n",
       "14 2011-01-15  11787.38\n",
       "15 2011-01-16  11787.38\n",
       "16 2011-01-17  11787.38\n",
       "17 2011-01-18  11837.93\n",
       "18 2011-01-19  11825.29\n",
       "19 2011-01-20  11822.80"
      ]
     },
     "execution_count": 37,
     "metadata": {},
     "output_type": "execute_result"
    }
   ],
   "source": [
    "new_djia = pandas.DataFrame(data = days_2011_2012, columns = ['Date'])\n",
    "djia = pandas.merge(left = new_djia, right = djia, on = 'Date', how = 'left')\n",
    "djia.Index = djia.Index.fillna(method='pad')\n",
    "djia.head(20)"
   ]
  },
  {
   "cell_type": "code",
   "execution_count": 38,
   "metadata": {
    "collapsed": false
   },
   "outputs": [
    {
     "data": {
      "text/plain": [
       "8600.0"
      ]
     },
     "execution_count": 38,
     "metadata": {},
     "output_type": "execute_result"
    }
   ],
   "source": [
    "donations.contb_receipt_amt[(donations.contb_receipt_dt == '2011-01-01') | (donations.contb_receipt_dt == '2011-01-02')].sum()"
   ]
  },
  {
   "cell_type": "markdown",
   "metadata": {},
   "source": [
    "As the amount gathered in the first 2 days of 2011 where the `NaN` values exist still is not significant we can safely ignore it and not gather more DJIA data from 2010."
   ]
  },
  {
   "cell_type": "code",
   "execution_count": 42,
   "metadata": {
    "collapsed": false
   },
   "outputs": [
    {
     "data": {
      "text/html": [
       "<div>\n",
       "<table border=\"1\" class=\"dataframe\">\n",
       "  <thead>\n",
       "    <tr style=\"text-align: right;\">\n",
       "      <th></th>\n",
       "      <th>contb_receipt_dt</th>\n",
       "      <th>contb_receipt_amt</th>\n",
       "      <th>Index</th>\n",
       "    </tr>\n",
       "  </thead>\n",
       "  <tbody>\n",
       "    <tr>\n",
       "      <th>0</th>\n",
       "      <td>2011-01-01</td>\n",
       "      <td>8600.00</td>\n",
       "      <td>NaN</td>\n",
       "    </tr>\n",
       "    <tr>\n",
       "      <th>1</th>\n",
       "      <td>2011-01-03</td>\n",
       "      <td>4800.00</td>\n",
       "      <td>11670.75</td>\n",
       "    </tr>\n",
       "    <tr>\n",
       "      <th>2</th>\n",
       "      <td>2011-01-04</td>\n",
       "      <td>5000.00</td>\n",
       "      <td>11691.18</td>\n",
       "    </tr>\n",
       "    <tr>\n",
       "      <th>3</th>\n",
       "      <td>2011-01-12</td>\n",
       "      <td>4150.00</td>\n",
       "      <td>11755.44</td>\n",
       "    </tr>\n",
       "    <tr>\n",
       "      <th>4</th>\n",
       "      <td>2011-01-13</td>\n",
       "      <td>4000.00</td>\n",
       "      <td>11731.90</td>\n",
       "    </tr>\n",
       "    <tr>\n",
       "      <th>5</th>\n",
       "      <td>2011-01-14</td>\n",
       "      <td>6000.00</td>\n",
       "      <td>11787.38</td>\n",
       "    </tr>\n",
       "    <tr>\n",
       "      <th>6</th>\n",
       "      <td>2011-01-15</td>\n",
       "      <td>500.00</td>\n",
       "      <td>11787.38</td>\n",
       "    </tr>\n",
       "    <tr>\n",
       "      <th>7</th>\n",
       "      <td>2011-01-16</td>\n",
       "      <td>750.00</td>\n",
       "      <td>11787.38</td>\n",
       "    </tr>\n",
       "    <tr>\n",
       "      <th>8</th>\n",
       "      <td>2011-01-17</td>\n",
       "      <td>500.00</td>\n",
       "      <td>11787.38</td>\n",
       "    </tr>\n",
       "    <tr>\n",
       "      <th>9</th>\n",
       "      <td>2011-01-18</td>\n",
       "      <td>4800.00</td>\n",
       "      <td>11837.93</td>\n",
       "    </tr>\n",
       "    <tr>\n",
       "      <th>10</th>\n",
       "      <td>2011-01-20</td>\n",
       "      <td>2650.00</td>\n",
       "      <td>11822.80</td>\n",
       "    </tr>\n",
       "    <tr>\n",
       "      <th>11</th>\n",
       "      <td>2011-01-21</td>\n",
       "      <td>250.00</td>\n",
       "      <td>11871.84</td>\n",
       "    </tr>\n",
       "    <tr>\n",
       "      <th>12</th>\n",
       "      <td>2011-01-22</td>\n",
       "      <td>250.00</td>\n",
       "      <td>11871.84</td>\n",
       "    </tr>\n",
       "    <tr>\n",
       "      <th>13</th>\n",
       "      <td>2011-01-24</td>\n",
       "      <td>2400.00</td>\n",
       "      <td>11980.52</td>\n",
       "    </tr>\n",
       "    <tr>\n",
       "      <th>14</th>\n",
       "      <td>2011-01-26</td>\n",
       "      <td>5400.00</td>\n",
       "      <td>11985.44</td>\n",
       "    </tr>\n",
       "    <tr>\n",
       "      <th>15</th>\n",
       "      <td>2011-01-27</td>\n",
       "      <td>2650.00</td>\n",
       "      <td>11989.83</td>\n",
       "    </tr>\n",
       "    <tr>\n",
       "      <th>16</th>\n",
       "      <td>2011-01-28</td>\n",
       "      <td>650.00</td>\n",
       "      <td>11823.70</td>\n",
       "    </tr>\n",
       "    <tr>\n",
       "      <th>17</th>\n",
       "      <td>2011-01-29</td>\n",
       "      <td>750.00</td>\n",
       "      <td>11823.70</td>\n",
       "    </tr>\n",
       "    <tr>\n",
       "      <th>18</th>\n",
       "      <td>2011-01-31</td>\n",
       "      <td>6000.00</td>\n",
       "      <td>11891.93</td>\n",
       "    </tr>\n",
       "    <tr>\n",
       "      <th>19</th>\n",
       "      <td>2011-02-01</td>\n",
       "      <td>250.00</td>\n",
       "      <td>12040.16</td>\n",
       "    </tr>\n",
       "    <tr>\n",
       "      <th>20</th>\n",
       "      <td>2011-02-03</td>\n",
       "      <td>3250.00</td>\n",
       "      <td>12062.26</td>\n",
       "    </tr>\n",
       "    <tr>\n",
       "      <th>21</th>\n",
       "      <td>2011-02-04</td>\n",
       "      <td>1000.00</td>\n",
       "      <td>12092.15</td>\n",
       "    </tr>\n",
       "    <tr>\n",
       "      <th>22</th>\n",
       "      <td>2011-02-07</td>\n",
       "      <td>9300.00</td>\n",
       "      <td>12161.63</td>\n",
       "    </tr>\n",
       "    <tr>\n",
       "      <th>23</th>\n",
       "      <td>2011-02-08</td>\n",
       "      <td>3000.00</td>\n",
       "      <td>12233.15</td>\n",
       "    </tr>\n",
       "    <tr>\n",
       "      <th>24</th>\n",
       "      <td>2011-02-09</td>\n",
       "      <td>6550.00</td>\n",
       "      <td>12239.89</td>\n",
       "    </tr>\n",
       "    <tr>\n",
       "      <th>25</th>\n",
       "      <td>2011-02-10</td>\n",
       "      <td>250.00</td>\n",
       "      <td>12229.29</td>\n",
       "    </tr>\n",
       "    <tr>\n",
       "      <th>26</th>\n",
       "      <td>2011-02-11</td>\n",
       "      <td>250.00</td>\n",
       "      <td>12273.26</td>\n",
       "    </tr>\n",
       "    <tr>\n",
       "      <th>27</th>\n",
       "      <td>2011-02-12</td>\n",
       "      <td>250.00</td>\n",
       "      <td>12273.26</td>\n",
       "    </tr>\n",
       "    <tr>\n",
       "      <th>28</th>\n",
       "      <td>2011-02-13</td>\n",
       "      <td>250.00</td>\n",
       "      <td>12273.26</td>\n",
       "    </tr>\n",
       "    <tr>\n",
       "      <th>29</th>\n",
       "      <td>2011-02-14</td>\n",
       "      <td>2500.00</td>\n",
       "      <td>12268.19</td>\n",
       "    </tr>\n",
       "    <tr>\n",
       "      <th>...</th>\n",
       "      <td>...</td>\n",
       "      <td>...</td>\n",
       "      <td>...</td>\n",
       "    </tr>\n",
       "    <tr>\n",
       "      <th>677</th>\n",
       "      <td>2012-11-28</td>\n",
       "      <td>117682.50</td>\n",
       "      <td>12985.11</td>\n",
       "    </tr>\n",
       "    <tr>\n",
       "      <th>678</th>\n",
       "      <td>2012-11-29</td>\n",
       "      <td>51277.02</td>\n",
       "      <td>13021.82</td>\n",
       "    </tr>\n",
       "    <tr>\n",
       "      <th>679</th>\n",
       "      <td>2012-11-30</td>\n",
       "      <td>76172.00</td>\n",
       "      <td>13025.58</td>\n",
       "    </tr>\n",
       "    <tr>\n",
       "      <th>680</th>\n",
       "      <td>2012-12-01</td>\n",
       "      <td>64888.20</td>\n",
       "      <td>13025.58</td>\n",
       "    </tr>\n",
       "    <tr>\n",
       "      <th>681</th>\n",
       "      <td>2012-12-02</td>\n",
       "      <td>28108.00</td>\n",
       "      <td>13025.58</td>\n",
       "    </tr>\n",
       "    <tr>\n",
       "      <th>682</th>\n",
       "      <td>2012-12-03</td>\n",
       "      <td>71605.00</td>\n",
       "      <td>12965.60</td>\n",
       "    </tr>\n",
       "    <tr>\n",
       "      <th>683</th>\n",
       "      <td>2012-12-04</td>\n",
       "      <td>31630.00</td>\n",
       "      <td>12951.78</td>\n",
       "    </tr>\n",
       "    <tr>\n",
       "      <th>684</th>\n",
       "      <td>2012-12-05</td>\n",
       "      <td>12766.00</td>\n",
       "      <td>13034.49</td>\n",
       "    </tr>\n",
       "    <tr>\n",
       "      <th>685</th>\n",
       "      <td>2012-12-06</td>\n",
       "      <td>22694.00</td>\n",
       "      <td>13074.04</td>\n",
       "    </tr>\n",
       "    <tr>\n",
       "      <th>686</th>\n",
       "      <td>2012-12-07</td>\n",
       "      <td>10280.00</td>\n",
       "      <td>13155.13</td>\n",
       "    </tr>\n",
       "    <tr>\n",
       "      <th>687</th>\n",
       "      <td>2012-12-08</td>\n",
       "      <td>2500.00</td>\n",
       "      <td>13155.13</td>\n",
       "    </tr>\n",
       "    <tr>\n",
       "      <th>688</th>\n",
       "      <td>2012-12-10</td>\n",
       "      <td>38956.24</td>\n",
       "      <td>13169.88</td>\n",
       "    </tr>\n",
       "    <tr>\n",
       "      <th>689</th>\n",
       "      <td>2012-12-11</td>\n",
       "      <td>41756.00</td>\n",
       "      <td>13248.44</td>\n",
       "    </tr>\n",
       "    <tr>\n",
       "      <th>690</th>\n",
       "      <td>2012-12-12</td>\n",
       "      <td>16885.20</td>\n",
       "      <td>13245.45</td>\n",
       "    </tr>\n",
       "    <tr>\n",
       "      <th>691</th>\n",
       "      <td>2012-12-13</td>\n",
       "      <td>1905978.12</td>\n",
       "      <td>13170.72</td>\n",
       "    </tr>\n",
       "    <tr>\n",
       "      <th>692</th>\n",
       "      <td>2012-12-14</td>\n",
       "      <td>127702.78</td>\n",
       "      <td>13135.01</td>\n",
       "    </tr>\n",
       "    <tr>\n",
       "      <th>693</th>\n",
       "      <td>2012-12-15</td>\n",
       "      <td>5051.00</td>\n",
       "      <td>13135.01</td>\n",
       "    </tr>\n",
       "    <tr>\n",
       "      <th>694</th>\n",
       "      <td>2012-12-16</td>\n",
       "      <td>3985.00</td>\n",
       "      <td>13135.01</td>\n",
       "    </tr>\n",
       "    <tr>\n",
       "      <th>695</th>\n",
       "      <td>2012-12-17</td>\n",
       "      <td>15030.00</td>\n",
       "      <td>13235.39</td>\n",
       "    </tr>\n",
       "    <tr>\n",
       "      <th>696</th>\n",
       "      <td>2012-12-18</td>\n",
       "      <td>23970.00</td>\n",
       "      <td>13350.96</td>\n",
       "    </tr>\n",
       "    <tr>\n",
       "      <th>697</th>\n",
       "      <td>2012-12-19</td>\n",
       "      <td>182156.17</td>\n",
       "      <td>13251.97</td>\n",
       "    </tr>\n",
       "    <tr>\n",
       "      <th>698</th>\n",
       "      <td>2012-12-20</td>\n",
       "      <td>7750.00</td>\n",
       "      <td>13311.72</td>\n",
       "    </tr>\n",
       "    <tr>\n",
       "      <th>699</th>\n",
       "      <td>2012-12-21</td>\n",
       "      <td>200.00</td>\n",
       "      <td>13190.84</td>\n",
       "    </tr>\n",
       "    <tr>\n",
       "      <th>700</th>\n",
       "      <td>2012-12-22</td>\n",
       "      <td>750.00</td>\n",
       "      <td>13190.84</td>\n",
       "    </tr>\n",
       "    <tr>\n",
       "      <th>701</th>\n",
       "      <td>2012-12-24</td>\n",
       "      <td>4412.00</td>\n",
       "      <td>13139.08</td>\n",
       "    </tr>\n",
       "    <tr>\n",
       "      <th>702</th>\n",
       "      <td>2012-12-25</td>\n",
       "      <td>1000.00</td>\n",
       "      <td>13139.08</td>\n",
       "    </tr>\n",
       "    <tr>\n",
       "      <th>703</th>\n",
       "      <td>2012-12-26</td>\n",
       "      <td>740.00</td>\n",
       "      <td>13114.59</td>\n",
       "    </tr>\n",
       "    <tr>\n",
       "      <th>704</th>\n",
       "      <td>2012-12-27</td>\n",
       "      <td>1150.00</td>\n",
       "      <td>13096.31</td>\n",
       "    </tr>\n",
       "    <tr>\n",
       "      <th>705</th>\n",
       "      <td>2012-12-30</td>\n",
       "      <td>100.00</td>\n",
       "      <td>12938.11</td>\n",
       "    </tr>\n",
       "    <tr>\n",
       "      <th>706</th>\n",
       "      <td>2012-12-31</td>\n",
       "      <td>5100.00</td>\n",
       "      <td>13104.14</td>\n",
       "    </tr>\n",
       "  </tbody>\n",
       "</table>\n",
       "<p>707 rows × 3 columns</p>\n",
       "</div>"
      ],
      "text/plain": [
       "    contb_receipt_dt  contb_receipt_amt     Index\n",
       "0         2011-01-01            8600.00       NaN\n",
       "1         2011-01-03            4800.00  11670.75\n",
       "2         2011-01-04            5000.00  11691.18\n",
       "3         2011-01-12            4150.00  11755.44\n",
       "4         2011-01-13            4000.00  11731.90\n",
       "5         2011-01-14            6000.00  11787.38\n",
       "6         2011-01-15             500.00  11787.38\n",
       "7         2011-01-16             750.00  11787.38\n",
       "8         2011-01-17             500.00  11787.38\n",
       "9         2011-01-18            4800.00  11837.93\n",
       "10        2011-01-20            2650.00  11822.80\n",
       "11        2011-01-21             250.00  11871.84\n",
       "12        2011-01-22             250.00  11871.84\n",
       "13        2011-01-24            2400.00  11980.52\n",
       "14        2011-01-26            5400.00  11985.44\n",
       "15        2011-01-27            2650.00  11989.83\n",
       "16        2011-01-28             650.00  11823.70\n",
       "17        2011-01-29             750.00  11823.70\n",
       "18        2011-01-31            6000.00  11891.93\n",
       "19        2011-02-01             250.00  12040.16\n",
       "20        2011-02-03            3250.00  12062.26\n",
       "21        2011-02-04            1000.00  12092.15\n",
       "22        2011-02-07            9300.00  12161.63\n",
       "23        2011-02-08            3000.00  12233.15\n",
       "24        2011-02-09            6550.00  12239.89\n",
       "25        2011-02-10             250.00  12229.29\n",
       "26        2011-02-11             250.00  12273.26\n",
       "27        2011-02-12             250.00  12273.26\n",
       "28        2011-02-13             250.00  12273.26\n",
       "29        2011-02-14            2500.00  12268.19\n",
       "..               ...                ...       ...\n",
       "677       2012-11-28          117682.50  12985.11\n",
       "678       2012-11-29           51277.02  13021.82\n",
       "679       2012-11-30           76172.00  13025.58\n",
       "680       2012-12-01           64888.20  13025.58\n",
       "681       2012-12-02           28108.00  13025.58\n",
       "682       2012-12-03           71605.00  12965.60\n",
       "683       2012-12-04           31630.00  12951.78\n",
       "684       2012-12-05           12766.00  13034.49\n",
       "685       2012-12-06           22694.00  13074.04\n",
       "686       2012-12-07           10280.00  13155.13\n",
       "687       2012-12-08            2500.00  13155.13\n",
       "688       2012-12-10           38956.24  13169.88\n",
       "689       2012-12-11           41756.00  13248.44\n",
       "690       2012-12-12           16885.20  13245.45\n",
       "691       2012-12-13         1905978.12  13170.72\n",
       "692       2012-12-14          127702.78  13135.01\n",
       "693       2012-12-15            5051.00  13135.01\n",
       "694       2012-12-16            3985.00  13135.01\n",
       "695       2012-12-17           15030.00  13235.39\n",
       "696       2012-12-18           23970.00  13350.96\n",
       "697       2012-12-19          182156.17  13251.97\n",
       "698       2012-12-20            7750.00  13311.72\n",
       "699       2012-12-21             200.00  13190.84\n",
       "700       2012-12-22             750.00  13190.84\n",
       "701       2012-12-24            4412.00  13139.08\n",
       "702       2012-12-25            1000.00  13139.08\n",
       "703       2012-12-26             740.00  13114.59\n",
       "704       2012-12-27            1150.00  13096.31\n",
       "705       2012-12-30             100.00  12938.11\n",
       "706       2012-12-31            5100.00  13104.14\n",
       "\n",
       "[707 rows x 3 columns]"
      ]
     },
     "execution_count": 42,
     "metadata": {},
     "output_type": "execute_result"
    }
   ],
   "source": [
    "donations_per_day = pandas.merge(left = donations[donations.contb_receipt_amt > 0].groupby('contb_receipt_dt', as_index=False).sum(), right = djia, left_on = 'contb_receipt_dt', right_on = 'Date', how = 'left')\n",
    "donations_per_day.drop('Date', axis=1, inplace=True)\n",
    "donations_per_day.drop('file_num', axis=1, inplace=True)\n",
    "donations_per_day"
   ]
  },
  {
   "cell_type": "markdown",
   "metadata": {
    "collapsed": true
   },
   "source": [
    "### Correlation between DJIA index and amount of donations."
   ]
  },
  {
   "cell_type": "markdown",
   "metadata": {},
   "source": [
    "Let's observe the correlation between the DJIA Index and the total amount of donations"
   ]
  },
  {
   "cell_type": "code",
   "execution_count": 44,
   "metadata": {
    "collapsed": false
   },
   "outputs": [
    {
     "name": "stdout",
     "output_type": "stream",
     "text": [
      "Correlation between index and total donations amount: 0.385756233331\n"
     ]
    },
    {
     "data": {
      "text/plain": [
       "<matplotlib.axes._subplots.AxesSubplot at 0x7f3fbcc841d0>"
      ]
     },
     "execution_count": 44,
     "metadata": {},
     "output_type": "execute_result"
    },
    {
     "data": {
      "image/png": "[encoded data removed]",
      "text/plain": [
       "<matplotlib.figure.Figure at 0x7f3fba71e710>"
      ]
     },
     "metadata": {},
     "output_type": "display_data"
    }
   ],
   "source": [
    "print('Correlation between index and total donations amount: ' + str(donations_per_day['contb_receipt_amt'].corr(donations_per_day['Index'])))\n",
    "donations_per_day.plot(kind='scatter', x= 'contb_receipt_amt', y='Index')"
   ]
  },
  {
   "cell_type": "markdown",
   "metadata": {},
   "source": [
    "As we can see there is a weak correlation between the DJIA index and the total amount of donations."
   ]
  },
  {
   "cell_type": "markdown",
   "metadata": {},
   "source": [
    "The supporters of different parties may react differently to the DJIA index so we are going to separate the donations by party."
   ]
  },
  {
   "cell_type": "code",
   "execution_count": 45,
   "metadata": {
    "collapsed": false
   },
   "outputs": [
    {
     "data": {
      "text/plain": [
       "array(['Bachmann, Michele', 'Romney, Mitt', 'Obama, Barack',\n",
       "       \"Roemer, Charles E. 'Buddy' III\", 'Pawlenty, Timothy',\n",
       "       'Johnson, Gary Earl', 'Paul, Ron', 'Santorum, Rick', 'Cain, Herman',\n",
       "       'Gingrich, Newt', 'McCotter, Thaddeus G', 'Huntsman, Jon',\n",
       "       'Perry, Rick', 'Stein, Jill'], dtype=object)"
      ]
     },
     "execution_count": 45,
     "metadata": {},
     "output_type": "execute_result"
    }
   ],
   "source": [
    "donations.cand_nm.unique()"
   ]
  },
  {
   "cell_type": "markdown",
   "metadata": {},
   "source": [
    "Looking the names online (or in the presentation of lecture 5) we determine which party each candidate belongs to and add a party column to the donations data frame."
   ]
  },
  {
   "cell_type": "code",
   "execution_count": 46,
   "metadata": {
    "collapsed": true
   },
   "outputs": [],
   "source": [
    "parties = {\n",
    "    'Bachmann, Michele': 'Republican',\n",
    "    'Romney, Mitt': 'Republican',\n",
    "    'Obama, Barack': 'Democrat',\n",
    "    \"Roemer, Charles E. 'Buddy' III\": 'Republican',\n",
    "    'Pawlenty, Timothy': 'Republican',\n",
    "    'Johnson, Gary Earl': 'Republican',\n",
    "    'Paul, Ron': 'Republican', \n",
    "    'Santorum, Rick': 'Republican',\n",
    "    'Cain, Herman': 'Republican',\n",
    "    'Gingrich, Newt': 'Republican', \n",
    "    'McCotter, Thaddeus G': 'Republican',\n",
    "    'Huntsman, Jon': 'Republican',\n",
    "    'Perry, Rick': 'Republican',\n",
    "    'Stein, Jill': 'Republican'\n",
    "}\n",
    "\n",
    "donations['party'] = donations.cand_nm.map(parties)"
   ]
  },
  {
   "cell_type": "markdown",
   "metadata": {},
   "source": [
    "We will group our data by party and date and calculate the correlations again."
   ]
  },
  {
   "cell_type": "code",
   "execution_count": 48,
   "metadata": {
    "collapsed": false
   },
   "outputs": [
    {
     "data": {
      "text/html": [
       "<div>\n",
       "<table border=\"1\" class=\"dataframe\">\n",
       "  <thead>\n",
       "    <tr style=\"text-align: right;\">\n",
       "      <th></th>\n",
       "      <th>contb_receipt_dt</th>\n",
       "      <th>party</th>\n",
       "      <th>contb_receipt_amt</th>\n",
       "      <th>Index</th>\n",
       "    </tr>\n",
       "  </thead>\n",
       "  <tbody>\n",
       "    <tr>\n",
       "      <th>0</th>\n",
       "      <td>2011-01-01</td>\n",
       "      <td>Republican</td>\n",
       "      <td>8600.00</td>\n",
       "      <td>NaN</td>\n",
       "    </tr>\n",
       "    <tr>\n",
       "      <th>1</th>\n",
       "      <td>2011-01-03</td>\n",
       "      <td>Republican</td>\n",
       "      <td>4800.00</td>\n",
       "      <td>11670.75</td>\n",
       "    </tr>\n",
       "    <tr>\n",
       "      <th>2</th>\n",
       "      <td>2011-01-04</td>\n",
       "      <td>Republican</td>\n",
       "      <td>5000.00</td>\n",
       "      <td>11691.18</td>\n",
       "    </tr>\n",
       "    <tr>\n",
       "      <th>3</th>\n",
       "      <td>2011-01-12</td>\n",
       "      <td>Republican</td>\n",
       "      <td>4150.00</td>\n",
       "      <td>11755.44</td>\n",
       "    </tr>\n",
       "    <tr>\n",
       "      <th>4</th>\n",
       "      <td>2011-01-13</td>\n",
       "      <td>Republican</td>\n",
       "      <td>4000.00</td>\n",
       "      <td>11731.90</td>\n",
       "    </tr>\n",
       "    <tr>\n",
       "      <th>5</th>\n",
       "      <td>2011-01-14</td>\n",
       "      <td>Republican</td>\n",
       "      <td>6000.00</td>\n",
       "      <td>11787.38</td>\n",
       "    </tr>\n",
       "    <tr>\n",
       "      <th>6</th>\n",
       "      <td>2011-01-15</td>\n",
       "      <td>Republican</td>\n",
       "      <td>500.00</td>\n",
       "      <td>11787.38</td>\n",
       "    </tr>\n",
       "    <tr>\n",
       "      <th>7</th>\n",
       "      <td>2011-01-16</td>\n",
       "      <td>Republican</td>\n",
       "      <td>750.00</td>\n",
       "      <td>11787.38</td>\n",
       "    </tr>\n",
       "    <tr>\n",
       "      <th>8</th>\n",
       "      <td>2011-01-17</td>\n",
       "      <td>Republican</td>\n",
       "      <td>500.00</td>\n",
       "      <td>11787.38</td>\n",
       "    </tr>\n",
       "    <tr>\n",
       "      <th>9</th>\n",
       "      <td>2011-01-18</td>\n",
       "      <td>Republican</td>\n",
       "      <td>4800.00</td>\n",
       "      <td>11837.93</td>\n",
       "    </tr>\n",
       "    <tr>\n",
       "      <th>10</th>\n",
       "      <td>2011-01-20</td>\n",
       "      <td>Republican</td>\n",
       "      <td>2650.00</td>\n",
       "      <td>11822.80</td>\n",
       "    </tr>\n",
       "    <tr>\n",
       "      <th>11</th>\n",
       "      <td>2011-01-21</td>\n",
       "      <td>Republican</td>\n",
       "      <td>250.00</td>\n",
       "      <td>11871.84</td>\n",
       "    </tr>\n",
       "    <tr>\n",
       "      <th>12</th>\n",
       "      <td>2011-01-22</td>\n",
       "      <td>Republican</td>\n",
       "      <td>250.00</td>\n",
       "      <td>11871.84</td>\n",
       "    </tr>\n",
       "    <tr>\n",
       "      <th>13</th>\n",
       "      <td>2011-01-24</td>\n",
       "      <td>Republican</td>\n",
       "      <td>2400.00</td>\n",
       "      <td>11980.52</td>\n",
       "    </tr>\n",
       "    <tr>\n",
       "      <th>14</th>\n",
       "      <td>2011-01-26</td>\n",
       "      <td>Republican</td>\n",
       "      <td>5400.00</td>\n",
       "      <td>11985.44</td>\n",
       "    </tr>\n",
       "    <tr>\n",
       "      <th>15</th>\n",
       "      <td>2011-01-27</td>\n",
       "      <td>Republican</td>\n",
       "      <td>2650.00</td>\n",
       "      <td>11989.83</td>\n",
       "    </tr>\n",
       "    <tr>\n",
       "      <th>16</th>\n",
       "      <td>2011-01-28</td>\n",
       "      <td>Republican</td>\n",
       "      <td>650.00</td>\n",
       "      <td>11823.70</td>\n",
       "    </tr>\n",
       "    <tr>\n",
       "      <th>17</th>\n",
       "      <td>2011-01-29</td>\n",
       "      <td>Republican</td>\n",
       "      <td>750.00</td>\n",
       "      <td>11823.70</td>\n",
       "    </tr>\n",
       "    <tr>\n",
       "      <th>18</th>\n",
       "      <td>2011-01-31</td>\n",
       "      <td>Republican</td>\n",
       "      <td>6000.00</td>\n",
       "      <td>11891.93</td>\n",
       "    </tr>\n",
       "    <tr>\n",
       "      <th>19</th>\n",
       "      <td>2011-02-01</td>\n",
       "      <td>Republican</td>\n",
       "      <td>250.00</td>\n",
       "      <td>12040.16</td>\n",
       "    </tr>\n",
       "    <tr>\n",
       "      <th>20</th>\n",
       "      <td>2011-02-03</td>\n",
       "      <td>Republican</td>\n",
       "      <td>3250.00</td>\n",
       "      <td>12062.26</td>\n",
       "    </tr>\n",
       "    <tr>\n",
       "      <th>21</th>\n",
       "      <td>2011-02-04</td>\n",
       "      <td>Republican</td>\n",
       "      <td>1000.00</td>\n",
       "      <td>12092.15</td>\n",
       "    </tr>\n",
       "    <tr>\n",
       "      <th>22</th>\n",
       "      <td>2011-02-07</td>\n",
       "      <td>Republican</td>\n",
       "      <td>9300.00</td>\n",
       "      <td>12161.63</td>\n",
       "    </tr>\n",
       "    <tr>\n",
       "      <th>23</th>\n",
       "      <td>2011-02-08</td>\n",
       "      <td>Republican</td>\n",
       "      <td>3000.00</td>\n",
       "      <td>12233.15</td>\n",
       "    </tr>\n",
       "    <tr>\n",
       "      <th>24</th>\n",
       "      <td>2011-02-09</td>\n",
       "      <td>Republican</td>\n",
       "      <td>6550.00</td>\n",
       "      <td>12239.89</td>\n",
       "    </tr>\n",
       "    <tr>\n",
       "      <th>25</th>\n",
       "      <td>2011-02-10</td>\n",
       "      <td>Republican</td>\n",
       "      <td>250.00</td>\n",
       "      <td>12229.29</td>\n",
       "    </tr>\n",
       "    <tr>\n",
       "      <th>26</th>\n",
       "      <td>2011-02-11</td>\n",
       "      <td>Republican</td>\n",
       "      <td>250.00</td>\n",
       "      <td>12273.26</td>\n",
       "    </tr>\n",
       "    <tr>\n",
       "      <th>27</th>\n",
       "      <td>2011-02-12</td>\n",
       "      <td>Republican</td>\n",
       "      <td>250.00</td>\n",
       "      <td>12273.26</td>\n",
       "    </tr>\n",
       "    <tr>\n",
       "      <th>28</th>\n",
       "      <td>2011-02-13</td>\n",
       "      <td>Republican</td>\n",
       "      <td>250.00</td>\n",
       "      <td>12273.26</td>\n",
       "    </tr>\n",
       "    <tr>\n",
       "      <th>29</th>\n",
       "      <td>2011-02-14</td>\n",
       "      <td>Republican</td>\n",
       "      <td>2500.00</td>\n",
       "      <td>12268.19</td>\n",
       "    </tr>\n",
       "    <tr>\n",
       "      <th>...</th>\n",
       "      <td>...</td>\n",
       "      <td>...</td>\n",
       "      <td>...</td>\n",
       "      <td>...</td>\n",
       "    </tr>\n",
       "    <tr>\n",
       "      <th>1295</th>\n",
       "      <td>2012-12-08</td>\n",
       "      <td>Republican</td>\n",
       "      <td>2500.00</td>\n",
       "      <td>13155.13</td>\n",
       "    </tr>\n",
       "    <tr>\n",
       "      <th>1296</th>\n",
       "      <td>2012-12-10</td>\n",
       "      <td>Democrat</td>\n",
       "      <td>7720.00</td>\n",
       "      <td>13169.88</td>\n",
       "    </tr>\n",
       "    <tr>\n",
       "      <th>1297</th>\n",
       "      <td>2012-12-10</td>\n",
       "      <td>Republican</td>\n",
       "      <td>31236.24</td>\n",
       "      <td>13169.88</td>\n",
       "    </tr>\n",
       "    <tr>\n",
       "      <th>1298</th>\n",
       "      <td>2012-12-11</td>\n",
       "      <td>Democrat</td>\n",
       "      <td>41756.00</td>\n",
       "      <td>13248.44</td>\n",
       "    </tr>\n",
       "    <tr>\n",
       "      <th>1299</th>\n",
       "      <td>2012-12-12</td>\n",
       "      <td>Democrat</td>\n",
       "      <td>11735.20</td>\n",
       "      <td>13245.45</td>\n",
       "    </tr>\n",
       "    <tr>\n",
       "      <th>1300</th>\n",
       "      <td>2012-12-12</td>\n",
       "      <td>Republican</td>\n",
       "      <td>5150.00</td>\n",
       "      <td>13245.45</td>\n",
       "    </tr>\n",
       "    <tr>\n",
       "      <th>1301</th>\n",
       "      <td>2012-12-13</td>\n",
       "      <td>Democrat</td>\n",
       "      <td>1905228.12</td>\n",
       "      <td>13170.72</td>\n",
       "    </tr>\n",
       "    <tr>\n",
       "      <th>1302</th>\n",
       "      <td>2012-12-13</td>\n",
       "      <td>Republican</td>\n",
       "      <td>750.00</td>\n",
       "      <td>13170.72</td>\n",
       "    </tr>\n",
       "    <tr>\n",
       "      <th>1303</th>\n",
       "      <td>2012-12-14</td>\n",
       "      <td>Democrat</td>\n",
       "      <td>6500.78</td>\n",
       "      <td>13135.01</td>\n",
       "    </tr>\n",
       "    <tr>\n",
       "      <th>1304</th>\n",
       "      <td>2012-12-14</td>\n",
       "      <td>Republican</td>\n",
       "      <td>121202.00</td>\n",
       "      <td>13135.01</td>\n",
       "    </tr>\n",
       "    <tr>\n",
       "      <th>1305</th>\n",
       "      <td>2012-12-15</td>\n",
       "      <td>Democrat</td>\n",
       "      <td>5051.00</td>\n",
       "      <td>13135.01</td>\n",
       "    </tr>\n",
       "    <tr>\n",
       "      <th>1306</th>\n",
       "      <td>2012-12-16</td>\n",
       "      <td>Democrat</td>\n",
       "      <td>3985.00</td>\n",
       "      <td>13135.01</td>\n",
       "    </tr>\n",
       "    <tr>\n",
       "      <th>1307</th>\n",
       "      <td>2012-12-17</td>\n",
       "      <td>Democrat</td>\n",
       "      <td>9806.00</td>\n",
       "      <td>13235.39</td>\n",
       "    </tr>\n",
       "    <tr>\n",
       "      <th>1308</th>\n",
       "      <td>2012-12-17</td>\n",
       "      <td>Republican</td>\n",
       "      <td>5224.00</td>\n",
       "      <td>13235.39</td>\n",
       "    </tr>\n",
       "    <tr>\n",
       "      <th>1309</th>\n",
       "      <td>2012-12-18</td>\n",
       "      <td>Democrat</td>\n",
       "      <td>23970.00</td>\n",
       "      <td>13350.96</td>\n",
       "    </tr>\n",
       "    <tr>\n",
       "      <th>1310</th>\n",
       "      <td>2012-12-19</td>\n",
       "      <td>Democrat</td>\n",
       "      <td>175156.17</td>\n",
       "      <td>13251.97</td>\n",
       "    </tr>\n",
       "    <tr>\n",
       "      <th>1311</th>\n",
       "      <td>2012-12-19</td>\n",
       "      <td>Republican</td>\n",
       "      <td>7000.00</td>\n",
       "      <td>13251.97</td>\n",
       "    </tr>\n",
       "    <tr>\n",
       "      <th>1312</th>\n",
       "      <td>2012-12-20</td>\n",
       "      <td>Democrat</td>\n",
       "      <td>750.00</td>\n",
       "      <td>13311.72</td>\n",
       "    </tr>\n",
       "    <tr>\n",
       "      <th>1313</th>\n",
       "      <td>2012-12-20</td>\n",
       "      <td>Republican</td>\n",
       "      <td>7000.00</td>\n",
       "      <td>13311.72</td>\n",
       "    </tr>\n",
       "    <tr>\n",
       "      <th>1314</th>\n",
       "      <td>2012-12-21</td>\n",
       "      <td>Republican</td>\n",
       "      <td>200.00</td>\n",
       "      <td>13190.84</td>\n",
       "    </tr>\n",
       "    <tr>\n",
       "      <th>1315</th>\n",
       "      <td>2012-12-22</td>\n",
       "      <td>Democrat</td>\n",
       "      <td>250.00</td>\n",
       "      <td>13190.84</td>\n",
       "    </tr>\n",
       "    <tr>\n",
       "      <th>1316</th>\n",
       "      <td>2012-12-22</td>\n",
       "      <td>Republican</td>\n",
       "      <td>500.00</td>\n",
       "      <td>13190.84</td>\n",
       "    </tr>\n",
       "    <tr>\n",
       "      <th>1317</th>\n",
       "      <td>2012-12-24</td>\n",
       "      <td>Democrat</td>\n",
       "      <td>4412.00</td>\n",
       "      <td>13139.08</td>\n",
       "    </tr>\n",
       "    <tr>\n",
       "      <th>1318</th>\n",
       "      <td>2012-12-25</td>\n",
       "      <td>Republican</td>\n",
       "      <td>1000.00</td>\n",
       "      <td>13139.08</td>\n",
       "    </tr>\n",
       "    <tr>\n",
       "      <th>1319</th>\n",
       "      <td>2012-12-26</td>\n",
       "      <td>Republican</td>\n",
       "      <td>740.00</td>\n",
       "      <td>13114.59</td>\n",
       "    </tr>\n",
       "    <tr>\n",
       "      <th>1320</th>\n",
       "      <td>2012-12-27</td>\n",
       "      <td>Democrat</td>\n",
       "      <td>800.00</td>\n",
       "      <td>13096.31</td>\n",
       "    </tr>\n",
       "    <tr>\n",
       "      <th>1321</th>\n",
       "      <td>2012-12-27</td>\n",
       "      <td>Republican</td>\n",
       "      <td>350.00</td>\n",
       "      <td>13096.31</td>\n",
       "    </tr>\n",
       "    <tr>\n",
       "      <th>1322</th>\n",
       "      <td>2012-12-30</td>\n",
       "      <td>Democrat</td>\n",
       "      <td>100.00</td>\n",
       "      <td>12938.11</td>\n",
       "    </tr>\n",
       "    <tr>\n",
       "      <th>1323</th>\n",
       "      <td>2012-12-31</td>\n",
       "      <td>Democrat</td>\n",
       "      <td>1350.00</td>\n",
       "      <td>13104.14</td>\n",
       "    </tr>\n",
       "    <tr>\n",
       "      <th>1324</th>\n",
       "      <td>2012-12-31</td>\n",
       "      <td>Republican</td>\n",
       "      <td>3750.00</td>\n",
       "      <td>13104.14</td>\n",
       "    </tr>\n",
       "  </tbody>\n",
       "</table>\n",
       "<p>1325 rows × 4 columns</p>\n",
       "</div>"
      ],
      "text/plain": [
       "     contb_receipt_dt       party  contb_receipt_amt     Index\n",
       "0          2011-01-01  Republican            8600.00       NaN\n",
       "1          2011-01-03  Republican            4800.00  11670.75\n",
       "2          2011-01-04  Republican            5000.00  11691.18\n",
       "3          2011-01-12  Republican            4150.00  11755.44\n",
       "4          2011-01-13  Republican            4000.00  11731.90\n",
       "5          2011-01-14  Republican            6000.00  11787.38\n",
       "6          2011-01-15  Republican             500.00  11787.38\n",
       "7          2011-01-16  Republican             750.00  11787.38\n",
       "8          2011-01-17  Republican             500.00  11787.38\n",
       "9          2011-01-18  Republican            4800.00  11837.93\n",
       "10         2011-01-20  Republican            2650.00  11822.80\n",
       "11         2011-01-21  Republican             250.00  11871.84\n",
       "12         2011-01-22  Republican             250.00  11871.84\n",
       "13         2011-01-24  Republican            2400.00  11980.52\n",
       "14         2011-01-26  Republican            5400.00  11985.44\n",
       "15         2011-01-27  Republican            2650.00  11989.83\n",
       "16         2011-01-28  Republican             650.00  11823.70\n",
       "17         2011-01-29  Republican             750.00  11823.70\n",
       "18         2011-01-31  Republican            6000.00  11891.93\n",
       "19         2011-02-01  Republican             250.00  12040.16\n",
       "20         2011-02-03  Republican            3250.00  12062.26\n",
       "21         2011-02-04  Republican            1000.00  12092.15\n",
       "22         2011-02-07  Republican            9300.00  12161.63\n",
       "23         2011-02-08  Republican            3000.00  12233.15\n",
       "24         2011-02-09  Republican            6550.00  12239.89\n",
       "25         2011-02-10  Republican             250.00  12229.29\n",
       "26         2011-02-11  Republican             250.00  12273.26\n",
       "27         2011-02-12  Republican             250.00  12273.26\n",
       "28         2011-02-13  Republican             250.00  12273.26\n",
       "29         2011-02-14  Republican            2500.00  12268.19\n",
       "...               ...         ...                ...       ...\n",
       "1295       2012-12-08  Republican            2500.00  13155.13\n",
       "1296       2012-12-10    Democrat            7720.00  13169.88\n",
       "1297       2012-12-10  Republican           31236.24  13169.88\n",
       "1298       2012-12-11    Democrat           41756.00  13248.44\n",
       "1299       2012-12-12    Democrat           11735.20  13245.45\n",
       "1300       2012-12-12  Republican            5150.00  13245.45\n",
       "1301       2012-12-13    Democrat         1905228.12  13170.72\n",
       "1302       2012-12-13  Republican             750.00  13170.72\n",
       "1303       2012-12-14    Democrat            6500.78  13135.01\n",
       "1304       2012-12-14  Republican          121202.00  13135.01\n",
       "1305       2012-12-15    Democrat            5051.00  13135.01\n",
       "1306       2012-12-16    Democrat            3985.00  13135.01\n",
       "1307       2012-12-17    Democrat            9806.00  13235.39\n",
       "1308       2012-12-17  Republican            5224.00  13235.39\n",
       "1309       2012-12-18    Democrat           23970.00  13350.96\n",
       "1310       2012-12-19    Democrat          175156.17  13251.97\n",
       "1311       2012-12-19  Republican            7000.00  13251.97\n",
       "1312       2012-12-20    Democrat             750.00  13311.72\n",
       "1313       2012-12-20  Republican            7000.00  13311.72\n",
       "1314       2012-12-21  Republican             200.00  13190.84\n",
       "1315       2012-12-22    Democrat             250.00  13190.84\n",
       "1316       2012-12-22  Republican             500.00  13190.84\n",
       "1317       2012-12-24    Democrat            4412.00  13139.08\n",
       "1318       2012-12-25  Republican            1000.00  13139.08\n",
       "1319       2012-12-26  Republican             740.00  13114.59\n",
       "1320       2012-12-27    Democrat             800.00  13096.31\n",
       "1321       2012-12-27  Republican             350.00  13096.31\n",
       "1322       2012-12-30    Democrat             100.00  12938.11\n",
       "1323       2012-12-31    Democrat            1350.00  13104.14\n",
       "1324       2012-12-31  Republican            3750.00  13104.14\n",
       "\n",
       "[1325 rows x 4 columns]"
      ]
     },
     "execution_count": 48,
     "metadata": {},
     "output_type": "execute_result"
    }
   ],
   "source": [
    "donations_per_day_per_party = pandas.merge(left = donations[donations.contb_receipt_amt > 0].groupby(['contb_receipt_dt', 'party'], as_index=False).sum(), right = djia, left_on = 'contb_receipt_dt', right_on = 'Date', how = 'left')\n",
    "donations_per_day_per_party.drop(['Date', 'file_num'], axis=1, inplace=True)\n",
    "donations_per_day_per_party"
   ]
  },
  {
   "cell_type": "code",
   "execution_count": 49,
   "metadata": {
    "collapsed": false
   },
   "outputs": [
    {
     "name": "stdout",
     "output_type": "stream",
     "text": [
      "Correlation between index and total donations amount for Republicans: 0.368962149778\n",
      "Correlation between index and total donations amount for Democrats: 0.324503257218\n"
     ]
    },
    {
     "data": {
      "text/plain": [
       "<matplotlib.axes._subplots.AxesSubplot at 0x7f3fc72de828>"
      ]
     },
     "execution_count": 49,
     "metadata": {},
     "output_type": "execute_result"
    },
    {
     "data": {
      "image/png": "[encoded data removed]",
      "text/plain": [
       "<matplotlib.figure.Figure at 0x7f3fd22d3a58>"
      ]
     },
     "metadata": {},
     "output_type": "display_data"
    },
    {
     "data": {
      "image/png": "[encoded data removed]",
      "text/plain": [
       "<matplotlib.figure.Figure at 0x7f3fd22d3160>"
      ]
     },
     "metadata": {},
     "output_type": "display_data"
    }
   ],
   "source": [
    "print('Correlation between index and total donations amount for Republicans: ' + str(donations_per_day_per_party.contb_receipt_amt[donations_per_day_per_party.party == 'Republican'].corr(donations_per_day_per_party.Index[donations_per_day_per_party.party == 'Republican'])))\n",
    "print('Correlation between index and total donations amount for Democrats: ' + str(donations_per_day_per_party.contb_receipt_amt[donations_per_day_per_party.party == 'Democrat'].corr(donations_per_day_per_party.Index[donations_per_day_per_party.party == 'Democrat'])))\n",
    "donations_per_day_per_party[donations_per_day_per_party.party == 'Republican'].plot(kind='scatter', x= 'contb_receipt_amt', y='Index', title = 'Republican')\n",
    "donations_per_day_per_party[donations_per_day_per_party.party == 'Democrat'].plot(kind='scatter', x= 'contb_receipt_amt', y='Index', title = 'Demorat')"
   ]
  },
  {
   "cell_type": "markdown",
   "metadata": {},
   "source": [
    "Still the correlation between the DJIA and the amount of donations is weak for both parties."
   ]
  },
  {
   "cell_type": "markdown",
   "metadata": {},
   "source": [
    "We can also explore other descriptive statisctics (apart from sum) concerning the amount of donations and the DJIA index like the number of donations (count), the median donation (median) etc. None of them shows a strong correlation."
   ]
  },
  {
   "cell_type": "code",
   "execution_count": 50,
   "metadata": {
    "collapsed": false
   },
   "outputs": [
    {
     "name": "stdout",
     "output_type": "stream",
     "text": [
      "Correlation between index and mean donation amount: -0.0357133901882\n",
      "Correlation between index and number of donations: 0.423499410848\n",
      "Correlation between index and median donation amount: -0.165421940908\n"
     ]
    },
    {
     "data": {
      "text/plain": [
       "<matplotlib.axes._subplots.AxesSubplot at 0x7f3fa2af1e80>"
      ]
     },
     "execution_count": 50,
     "metadata": {},
     "output_type": "execute_result"
    },
    {
     "data": {
      "image/png": "[encoded data removed]",
      "text/plain": [
       "<matplotlib.figure.Figure at 0x7f3fb9f194e0>"
      ]
     },
     "metadata": {},
     "output_type": "display_data"
    },
    {
     "data": {
      "image/png": "[encoded data removed]",
      "text/plain": [
       "<matplotlib.figure.Figure at 0x7f3fc9c00f28>"
      ]
     },
     "metadata": {},
     "output_type": "display_data"
    },
    {
     "data": {
      "image/png": "[encoded data removed]",
      "text/plain": [
       "<matplotlib.figure.Figure at 0x7f3fd04c5d68>"
      ]
     },
     "metadata": {},
     "output_type": "display_data"
    }
   ],
   "source": [
    "donations_per_day_mean = pandas.merge(left = donations[donations.contb_receipt_amt > 0].groupby('contb_receipt_dt', as_index=False).mean(), right = djia, left_on = 'contb_receipt_dt', right_on = 'Date', how = 'left')\n",
    "donations_per_day_mean.drop('Date', axis=1, inplace=True)\n",
    "print('Correlation between index and mean donation amount: ' + str(donations_per_day_mean['contb_receipt_amt'].corr(donations_per_day_mean['Index'])))\n",
    "donations_per_day_mean.plot(kind='scatter', x= 'contb_receipt_amt', y='Index', title = 'Mean donation')\n",
    "\n",
    "donations_per_day_count = pandas.merge(left = donations[donations.contb_receipt_amt > 0].groupby('contb_receipt_dt', as_index=False).count(), right = djia, left_on = 'contb_receipt_dt', right_on = 'Date', how = 'left')\n",
    "donations_per_day_count.drop('Date', axis=1, inplace=True)\n",
    "print('Correlation between index and number of donations: ' + str(donations_per_day_count['contb_receipt_amt'].corr(donations_per_day_count['Index'])))\n",
    "donations_per_day_count.plot(kind='scatter', x= 'contb_receipt_amt', y='Index', title = 'Count of donations')\n",
    "\n",
    "donations_per_day_median = pandas.merge(left = donations[donations.contb_receipt_amt > 0].groupby('contb_receipt_dt', as_index=False).median(), right = djia, left_on = 'contb_receipt_dt', right_on = 'Date', how = 'left')\n",
    "donations_per_day_median.drop('Date', axis=1, inplace=True)\n",
    "print('Correlation between index and median donation amount: ' + str(donations_per_day_median['contb_receipt_amt'].corr(donations_per_day_median['Index'])))\n",
    "donations_per_day_median.plot(kind='scatter', x= 'contb_receipt_amt', y='Index', title = 'Median donation amount')"
   ]
  },
  {
   "cell_type": "markdown",
   "metadata": {},
   "source": [
    "### Days left till election"
   ]
  },
  {
   "cell_type": "markdown",
   "metadata": {},
   "source": [
    "The election day was November the 6th of 2012. It would be interesting to see the amount od donations as the election day approaches."
   ]
  },
  {
   "cell_type": "code",
   "execution_count": 51,
   "metadata": {
    "collapsed": false
   },
   "outputs": [
    {
     "data": {
      "text/plain": [
       "<matplotlib.axes._subplots.AxesSubplot at 0x7f3fb2487518>"
      ]
     },
     "execution_count": 51,
     "metadata": {},
     "output_type": "execute_result"
    },
    {
     "data": {
      "image/png": "[encoded data removed]",
      "text/plain": [
       "<matplotlib.figure.Figure at 0x7f3fcd24b160>"
      ]
     },
     "metadata": {},
     "output_type": "display_data"
    }
   ],
   "source": [
    "donations_per_day.plot(x = 'contb_receipt_dt', y = 'contb_receipt_amt', title = 'Total donations')"
   ]
  },
  {
   "cell_type": "code",
   "execution_count": 52,
   "metadata": {
    "collapsed": false
   },
   "outputs": [
    {
     "name": "stdout",
     "output_type": "stream",
     "text": [
      "Correlation between days until election and total donation amount-0.559092533748\n"
     ]
    },
    {
     "data": {
      "image/png": "[encoded data removed]",
      "text/plain": [
       "<matplotlib.figure.Figure at 0x7f3fa79688d0>"
      ]
     },
     "metadata": {},
     "output_type": "display_data"
    }
   ],
   "source": [
    "donations_per_day_days_left = donations_per_day\n",
    "donations_per_day_days_left['days_left'] = (pandas.to_datetime('2012-11-06') - donations_per_day_days_left.contb_receipt_dt).dt.days\n",
    "donations_per_day_days_left[(donations_per_day_days_left.days_left > 0)].plot(kind='scatter', x= 'days_left', y='contb_receipt_amt', title = 'Total donation amount')\n",
    "print('Correlation between days until election and total donation amount' + str(donations_per_day_days_left['contb_receipt_amt'][donations_per_day_days_left.days_left > 0].corr(donations_per_day_days_left['days_left'])))"
   ]
  },
  {
   "cell_type": "markdown",
   "metadata": {},
   "source": [
    "We have removed the entries after the election day as there is naturally a drop to the amount of donation after the elections. We can see that there is a medium strength correlation between the amount of days left until election and the total amount of donation to the campaigns."
   ]
  },
  {
   "cell_type": "markdown",
   "metadata": {
    "collapsed": true
   },
   "source": [
    "## Census data"
   ]
  },
  {
   "cell_type": "markdown",
   "metadata": {},
   "source": [
    "We have retrieved the census 2010 data from www.census.gov. There one main file we are interested in. The geography file which lists all census statictical locations and the total population for each statistical location. The geography file is fixed width and can be retrieved from [here](ftp://ftp.census.gov/census_2010/04-Summary_File_1/National/us2010.sf1.zip). The dictionary and other documentation for this data set is [here](http://www.census.gov/prod/cen2010/doc/sf1.pdf)"
   ]
  },
  {
   "cell_type": "code",
   "execution_count": 54,
   "metadata": {
    "collapsed": false
   },
   "outputs": [],
   "source": [
    "if not os.path.isfile('sf1/usgeo2010.sf1'):\n",
    "    if not os.path.isfile('sf1/us2010.sf1.zip'):\n",
    "        urllib.request.urlretrieve('ftp://ftp.census.gov/census_2010/04-Summary_File_1/National/us2010.sf1.zip',\n",
    "                                   filename = 'sf1/us2010.sf1.zip')\n",
    "    zipped_data_set = zipfile.ZipFile('sf1/us2010.sf1.zip')\n",
    "    zipped_data_set.extractall('sf1/')\n",
    "\n",
    "usgeo2010_widths = [6, 2, 3, 2, 3, 2, 7, 1, 1, 2, 3, 2, 2, 5, 2, 2, 5, 2, 2, 6, 1, 4, 2, 5, 2, 2, 4, 5, 2, 1, 3, 5, 2, 6, 1, 5, 2, 5, 2, 5, 3, 5, 2, 5, 3, 1, 1, 5, 2, 1, 1, 2, 3, 3, 6, 1, 3, 5, 5, 2, 5, 5, 5, 14, 14, 90, 1, 1, 9, 9, 11, 12, 2, 1, 6, 5, 8, 8, 8, 8, 8, 8, 8, 8, 8, 2, 2, 2, 3, 3, 3, 3, 3, 3, 2, 2, 2, 1, 1, 5, 18]\n",
    "usgeo2010_names = ['FILEID', 'STUSAB', 'SUMLEV', 'GEOCOMP', 'CHARITER', 'CIFSN', 'LOGRECNO',\n",
    "         'REGION', 'DIVISION', 'STATE', 'COUNTY', 'COUNTYCC', 'COUNTYSC', 'COUSUB',\n",
    "         'COUSUBCC', 'COUSUBSC', 'PLACE', 'PLACECC', 'PLACESC', 'TRACT', 'BLKGRP',\n",
    "         'BLOCK', 'IUC', 'CONCIT', 'CONCITCC', 'CONCITSC', 'AIANHH', 'AIANHHFP',\n",
    "         'AIANHHCC', 'AIHHTLI', 'AITSCE', 'AITS', 'AITSCC', 'TTRACT', 'TBLKGRP',\n",
    "         'ANRC', 'ANRCCC', 'CBSA', 'CBSASC', 'METDIV', 'CSA', 'NECTA',\n",
    "         'NECTASC', 'NECTADIV', 'CNECTA', 'CBSAPCI', 'NECTAPCI', 'UA', 'UASC',\n",
    "         'UATYPE', 'UR', 'CD', 'SLDU', 'SLDL', 'VTD', 'VTDI',\n",
    "         'RESERVE2', 'ZCTA5', 'SUBMCD', 'SUBMCDCC', 'SDELM', 'SDSEC', 'SDUNI',\n",
    "         'AREALAND', 'AREAWATR', 'NAME', 'FUNCSTAT', 'GCUNI', 'POP100', 'HU100',\n",
    "         'INTPTLAT', 'INTPTLON', 'LSADC', 'PARTFLAG', 'RESERVE3', 'UGA', 'STATENS',\n",
    "         'COUNTYNS', 'COUSUBNS', 'PLACENS', 'CONCITNS', 'AIANHHNS', 'AITSNS', 'ANRCNS',\n",
    "         'SUBMCDNS', 'CD113', 'CD114', 'CD115', 'SLDU2', 'SLDU3', 'SLDU4',\n",
    "         'SLDL2', 'SLDL3', 'SLDL4', 'AIANHHSC', 'CSASC', 'CNECTASC', 'MEMI',\n",
    "         'NMEMI', 'PUMA', 'RESERVED']\n",
    "usgeo2010_states = {1:'AL',\n",
    "                    2:'AK',\n",
    "                    4:'AZ',\n",
    "                    5:'AR',\n",
    "                    6:'CA',\n",
    "                    8:'CO',\n",
    "                    9:'CT',\n",
    "                    10:'DE',\n",
    "                    11:'DC',\n",
    "                    12:'FL',\n",
    "                    13:'GA',\n",
    "                    15:'HI',\n",
    "                    16:'ID',\n",
    "                    17:'IL',\n",
    "                    18:'IN',\n",
    "                    19:'IA',\n",
    "                    20:'KS',\n",
    "                    21:'KY',\n",
    "                    22:'LA',\n",
    "                    23:'ME',\n",
    "                    24:'MD',\n",
    "                    25:'MA',\n",
    "                    26:'MI',\n",
    "                    27:'MN',\n",
    "                    28:'MS',\n",
    "                    29:'MO',\n",
    "                    30:'MT',\n",
    "                    31:'NE',\n",
    "                    32:'NV',\n",
    "                    33:'NH',\n",
    "                    34:'NJ',\n",
    "                    35:'NM',\n",
    "                    36:'NY',\n",
    "                    37:'NC',\n",
    "                    38:'ND',\n",
    "                    39:'OH',\n",
    "                    40:'OK',\n",
    "                    41:'OR',\n",
    "                    42:'PA',\n",
    "                    44:'RI',\n",
    "                    45:'SC',\n",
    "                    46:'SD',\n",
    "                    47:'TN',\n",
    "                    48:'TX',\n",
    "                    49:'UT',\n",
    "                    50:'VT',\n",
    "                    51:'VA',\n",
    "                    53:'WA',\n",
    "                    54:'WV',\n",
    "                    55:'WI',\n",
    "                    56:'WY',\n",
    "                    72:'Puerto_Rico'}\n",
    "\n",
    "usgeo2010 = pandas.read_fwf('sf1/usgeo2010.sf1', widths = usgeo2010_widths, header = None, names = usgeo2010_names)\n",
    "usgeo2010['STATE'] = usgeo2010.STATE.map(usgeo2010_states)"
   ]
  },
  {
   "cell_type": "markdown",
   "metadata": {},
   "source": [
    "We will try to clean the donations data set. We observer that there are someentries which contain state acronums that do not exist. This is due to donation from aboard or mistaken entries."
   ]
  },
  {
   "cell_type": "code",
   "execution_count": 55,
   "metadata": {
    "collapsed": false
   },
   "outputs": [
    {
     "name": "stdout",
     "output_type": "stream",
     "text": [
      "There are 13410 entries with invalid states\n"
     ]
    }
   ],
   "source": [
    "donations.contbr_st[~donations.contbr_st.isin(usgeo2010_states.values())].unique()\n",
    "print('There are ' + str(len(donations.contbr_st[~donations.contbr_st.isin(usgeo2010_states.values())])) + ' entries with invalid states')"
   ]
  },
  {
   "cell_type": "markdown",
   "metadata": {},
   "source": [
    "We will remove these."
   ]
  },
  {
   "cell_type": "code",
   "execution_count": 56,
   "metadata": {
    "collapsed": false
   },
   "outputs": [],
   "source": [
    "donations = donations[donations.contbr_st.isin(usgeo2010_states.values())]"
   ]
  },
  {
   "cell_type": "markdown",
   "metadata": {},
   "source": [
    "Also there are 84 entries where there is no city reported. We will remove those two as we don't want to match a whole state."
   ]
  },
  {
   "cell_type": "code",
   "execution_count": 57,
   "metadata": {
    "collapsed": false
   },
   "outputs": [
    {
     "name": "stdout",
     "output_type": "stream",
     "text": [
      "There are 84 entries with no city recorded\n"
     ]
    }
   ],
   "source": [
    "print('There are ' + str(len(donations[donations.contbr_city.isnull()])) + ' entries with no city recorded')\n",
    "donations = donations[~donations.contbr_city.isnull()]"
   ]
  },
  {
   "cell_type": "code",
   "execution_count": 59,
   "metadata": {
    "collapsed": false
   },
   "outputs": [
    {
     "data": {
      "text/html": [
       "<div>\n",
       "<table border=\"1\" class=\"dataframe\">\n",
       "  <thead>\n",
       "    <tr style=\"text-align: right;\">\n",
       "      <th></th>\n",
       "      <th>contbr_st</th>\n",
       "      <th>contbr_city</th>\n",
       "    </tr>\n",
       "  </thead>\n",
       "  <tbody>\n",
       "    <tr>\n",
       "      <th>0</th>\n",
       "      <td>AK</td>\n",
       "      <td>AKIAK</td>\n",
       "    </tr>\n",
       "    <tr>\n",
       "      <th>1</th>\n",
       "      <td>AK</td>\n",
       "      <td>AKUTAN</td>\n",
       "    </tr>\n",
       "    <tr>\n",
       "      <th>2</th>\n",
       "      <td>AK</td>\n",
       "      <td>ALAKANUK</td>\n",
       "    </tr>\n",
       "    <tr>\n",
       "      <th>3</th>\n",
       "      <td>AK</td>\n",
       "      <td>AMBLER</td>\n",
       "    </tr>\n",
       "    <tr>\n",
       "      <th>4</th>\n",
       "      <td>AK</td>\n",
       "      <td>ANC</td>\n",
       "    </tr>\n",
       "    <tr>\n",
       "      <th>5</th>\n",
       "      <td>AK</td>\n",
       "      <td>ANCHOR POINT</td>\n",
       "    </tr>\n",
       "    <tr>\n",
       "      <th>6</th>\n",
       "      <td>AK</td>\n",
       "      <td>ANCHORAGE</td>\n",
       "    </tr>\n",
       "    <tr>\n",
       "      <th>7</th>\n",
       "      <td>AK</td>\n",
       "      <td>ANCHORAGE,</td>\n",
       "    </tr>\n",
       "    <tr>\n",
       "      <th>8</th>\n",
       "      <td>AK</td>\n",
       "      <td>ANCHORGE</td>\n",
       "    </tr>\n",
       "    <tr>\n",
       "      <th>9</th>\n",
       "      <td>AK</td>\n",
       "      <td>ANCHROAGE</td>\n",
       "    </tr>\n",
       "    <tr>\n",
       "      <th>10</th>\n",
       "      <td>AK</td>\n",
       "      <td>ANCORAGE</td>\n",
       "    </tr>\n",
       "    <tr>\n",
       "      <th>11</th>\n",
       "      <td>AK</td>\n",
       "      <td>ANDERSON</td>\n",
       "    </tr>\n",
       "    <tr>\n",
       "      <th>12</th>\n",
       "      <td>AK</td>\n",
       "      <td>ANGOON</td>\n",
       "    </tr>\n",
       "    <tr>\n",
       "      <th>13</th>\n",
       "      <td>AK</td>\n",
       "      <td>ANHORAGE</td>\n",
       "    </tr>\n",
       "    <tr>\n",
       "      <th>14</th>\n",
       "      <td>AK</td>\n",
       "      <td>ANIAK</td>\n",
       "    </tr>\n",
       "    <tr>\n",
       "      <th>15</th>\n",
       "      <td>AK</td>\n",
       "      <td>ASHEVILLE</td>\n",
       "    </tr>\n",
       "    <tr>\n",
       "      <th>16</th>\n",
       "      <td>AK</td>\n",
       "      <td>AUKE BAY</td>\n",
       "    </tr>\n",
       "    <tr>\n",
       "      <th>17</th>\n",
       "      <td>AK</td>\n",
       "      <td>BARRO</td>\n",
       "    </tr>\n",
       "    <tr>\n",
       "      <th>18</th>\n",
       "      <td>AK</td>\n",
       "      <td>BARROW</td>\n",
       "    </tr>\n",
       "    <tr>\n",
       "      <th>19</th>\n",
       "      <td>AK</td>\n",
       "      <td>BAYFIELD</td>\n",
       "    </tr>\n",
       "    <tr>\n",
       "      <th>20</th>\n",
       "      <td>AK</td>\n",
       "      <td>BETHEL</td>\n",
       "    </tr>\n",
       "    <tr>\n",
       "      <th>21</th>\n",
       "      <td>AK</td>\n",
       "      <td>BIG LAKE</td>\n",
       "    </tr>\n",
       "    <tr>\n",
       "      <th>22</th>\n",
       "      <td>AK</td>\n",
       "      <td>CANTWELL</td>\n",
       "    </tr>\n",
       "    <tr>\n",
       "      <th>23</th>\n",
       "      <td>AK</td>\n",
       "      <td>CHICKEN</td>\n",
       "    </tr>\n",
       "    <tr>\n",
       "      <th>24</th>\n",
       "      <td>AK</td>\n",
       "      <td>CHUGIAK</td>\n",
       "    </tr>\n",
       "    <tr>\n",
       "      <th>25</th>\n",
       "      <td>AK</td>\n",
       "      <td>CLAM GULCH</td>\n",
       "    </tr>\n",
       "    <tr>\n",
       "      <th>26</th>\n",
       "      <td>AK</td>\n",
       "      <td>COFFMAN COVE</td>\n",
       "    </tr>\n",
       "    <tr>\n",
       "      <th>27</th>\n",
       "      <td>AK</td>\n",
       "      <td>COOPER LANDING</td>\n",
       "    </tr>\n",
       "    <tr>\n",
       "      <th>28</th>\n",
       "      <td>AK</td>\n",
       "      <td>COPPER CENTER</td>\n",
       "    </tr>\n",
       "    <tr>\n",
       "      <th>29</th>\n",
       "      <td>AK</td>\n",
       "      <td>CORDOVA</td>\n",
       "    </tr>\n",
       "    <tr>\n",
       "      <th>...</th>\n",
       "      <td>...</td>\n",
       "      <td>...</td>\n",
       "    </tr>\n",
       "    <tr>\n",
       "      <th>33732</th>\n",
       "      <td>WY</td>\n",
       "      <td>ROZET</td>\n",
       "    </tr>\n",
       "    <tr>\n",
       "      <th>33733</th>\n",
       "      <td>WY</td>\n",
       "      <td>SARATOGA</td>\n",
       "    </tr>\n",
       "    <tr>\n",
       "      <th>33734</th>\n",
       "      <td>WY</td>\n",
       "      <td>SHARIDAN</td>\n",
       "    </tr>\n",
       "    <tr>\n",
       "      <th>33735</th>\n",
       "      <td>WY</td>\n",
       "      <td>SHELL</td>\n",
       "    </tr>\n",
       "    <tr>\n",
       "      <th>33736</th>\n",
       "      <td>WY</td>\n",
       "      <td>SHERIDAN</td>\n",
       "    </tr>\n",
       "    <tr>\n",
       "      <th>33737</th>\n",
       "      <td>WY</td>\n",
       "      <td>STAR VALLEY RANCH</td>\n",
       "    </tr>\n",
       "    <tr>\n",
       "      <th>33738</th>\n",
       "      <td>WY</td>\n",
       "      <td>STORY</td>\n",
       "    </tr>\n",
       "    <tr>\n",
       "      <th>33739</th>\n",
       "      <td>WY</td>\n",
       "      <td>SUNDANCE</td>\n",
       "    </tr>\n",
       "    <tr>\n",
       "      <th>33740</th>\n",
       "      <td>WY</td>\n",
       "      <td>TEN SLEEP</td>\n",
       "    </tr>\n",
       "    <tr>\n",
       "      <th>33741</th>\n",
       "      <td>WY</td>\n",
       "      <td>TENTON VILLAGE</td>\n",
       "    </tr>\n",
       "    <tr>\n",
       "      <th>33742</th>\n",
       "      <td>WY</td>\n",
       "      <td>TETON VILLAGE</td>\n",
       "    </tr>\n",
       "    <tr>\n",
       "      <th>33743</th>\n",
       "      <td>WY</td>\n",
       "      <td>THAYNE</td>\n",
       "    </tr>\n",
       "    <tr>\n",
       "      <th>33744</th>\n",
       "      <td>WY</td>\n",
       "      <td>THERMOPOLIS</td>\n",
       "    </tr>\n",
       "    <tr>\n",
       "      <th>33745</th>\n",
       "      <td>WY</td>\n",
       "      <td>TIE SIDING</td>\n",
       "    </tr>\n",
       "    <tr>\n",
       "      <th>33746</th>\n",
       "      <td>WY</td>\n",
       "      <td>TORRINGTON</td>\n",
       "    </tr>\n",
       "    <tr>\n",
       "      <th>33747</th>\n",
       "      <td>WY</td>\n",
       "      <td>UPTON</td>\n",
       "    </tr>\n",
       "    <tr>\n",
       "      <th>33748</th>\n",
       "      <td>WY</td>\n",
       "      <td>WAMSUTTER</td>\n",
       "    </tr>\n",
       "    <tr>\n",
       "      <th>33749</th>\n",
       "      <td>WY</td>\n",
       "      <td>WAPITI</td>\n",
       "    </tr>\n",
       "    <tr>\n",
       "      <th>33750</th>\n",
       "      <td>WY</td>\n",
       "      <td>WESTMINSTER</td>\n",
       "    </tr>\n",
       "    <tr>\n",
       "      <th>33751</th>\n",
       "      <td>WY</td>\n",
       "      <td>WESTON</td>\n",
       "    </tr>\n",
       "    <tr>\n",
       "      <th>33752</th>\n",
       "      <td>WY</td>\n",
       "      <td>WHEATLAND</td>\n",
       "    </tr>\n",
       "    <tr>\n",
       "      <th>33753</th>\n",
       "      <td>WY</td>\n",
       "      <td>WILSON</td>\n",
       "    </tr>\n",
       "    <tr>\n",
       "      <th>33754</th>\n",
       "      <td>WY</td>\n",
       "      <td>WN</td>\n",
       "    </tr>\n",
       "    <tr>\n",
       "      <th>33755</th>\n",
       "      <td>WY</td>\n",
       "      <td>WOLF</td>\n",
       "    </tr>\n",
       "    <tr>\n",
       "      <th>33756</th>\n",
       "      <td>WY</td>\n",
       "      <td>WORLAND</td>\n",
       "    </tr>\n",
       "    <tr>\n",
       "      <th>33757</th>\n",
       "      <td>WY</td>\n",
       "      <td>WRIGHT</td>\n",
       "    </tr>\n",
       "    <tr>\n",
       "      <th>33758</th>\n",
       "      <td>WY</td>\n",
       "      <td>WY</td>\n",
       "    </tr>\n",
       "    <tr>\n",
       "      <th>33759</th>\n",
       "      <td>WY</td>\n",
       "      <td>YELLOWSTONE NATION</td>\n",
       "    </tr>\n",
       "    <tr>\n",
       "      <th>33760</th>\n",
       "      <td>WY</td>\n",
       "      <td>YELWSTN NL PK</td>\n",
       "    </tr>\n",
       "    <tr>\n",
       "      <th>33761</th>\n",
       "      <td>WY</td>\n",
       "      <td>YODER</td>\n",
       "    </tr>\n",
       "  </tbody>\n",
       "</table>\n",
       "<p>33762 rows × 2 columns</p>\n",
       "</div>"
      ],
      "text/plain": [
       "      contbr_st         contbr_city\n",
       "0            AK               AKIAK\n",
       "1            AK              AKUTAN\n",
       "2            AK            ALAKANUK\n",
       "3            AK              AMBLER\n",
       "4            AK                 ANC\n",
       "5            AK        ANCHOR POINT\n",
       "6            AK           ANCHORAGE\n",
       "7            AK          ANCHORAGE,\n",
       "8            AK            ANCHORGE\n",
       "9            AK           ANCHROAGE\n",
       "10           AK            ANCORAGE\n",
       "11           AK            ANDERSON\n",
       "12           AK              ANGOON\n",
       "13           AK            ANHORAGE\n",
       "14           AK               ANIAK\n",
       "15           AK           ASHEVILLE\n",
       "16           AK            AUKE BAY\n",
       "17           AK               BARRO\n",
       "18           AK              BARROW\n",
       "19           AK            BAYFIELD\n",
       "20           AK              BETHEL\n",
       "21           AK            BIG LAKE\n",
       "22           AK            CANTWELL\n",
       "23           AK             CHICKEN\n",
       "24           AK             CHUGIAK\n",
       "25           AK          CLAM GULCH\n",
       "26           AK        COFFMAN COVE\n",
       "27           AK      COOPER LANDING\n",
       "28           AK       COPPER CENTER\n",
       "29           AK             CORDOVA\n",
       "...         ...                 ...\n",
       "33732        WY               ROZET\n",
       "33733        WY            SARATOGA\n",
       "33734        WY            SHARIDAN\n",
       "33735        WY               SHELL\n",
       "33736        WY            SHERIDAN\n",
       "33737        WY   STAR VALLEY RANCH\n",
       "33738        WY               STORY\n",
       "33739        WY            SUNDANCE\n",
       "33740        WY           TEN SLEEP\n",
       "33741        WY      TENTON VILLAGE\n",
       "33742        WY       TETON VILLAGE\n",
       "33743        WY              THAYNE\n",
       "33744        WY         THERMOPOLIS\n",
       "33745        WY          TIE SIDING\n",
       "33746        WY          TORRINGTON\n",
       "33747        WY               UPTON\n",
       "33748        WY           WAMSUTTER\n",
       "33749        WY              WAPITI\n",
       "33750        WY         WESTMINSTER\n",
       "33751        WY              WESTON\n",
       "33752        WY           WHEATLAND\n",
       "33753        WY              WILSON\n",
       "33754        WY                  WN\n",
       "33755        WY                WOLF\n",
       "33756        WY             WORLAND\n",
       "33757        WY              WRIGHT\n",
       "33758        WY                  WY\n",
       "33759        WY  YELLOWSTONE NATION\n",
       "33760        WY       YELWSTN NL PK\n",
       "33761        WY               YODER\n",
       "\n",
       "[33762 rows x 2 columns]"
      ]
     },
     "execution_count": 59,
     "metadata": {},
     "output_type": "execute_result"
    }
   ],
   "source": [
    "cities_in_donations = donations.groupby(['contbr_st', 'contbr_city'], as_index = False).sum()[['contbr_st', 'contbr_city']]\n",
    "cities_in_donations"
   ]
  },
  {
   "cell_type": "code",
   "execution_count": null,
   "metadata": {
    "collapsed": false
   },
   "outputs": [],
   "source": [
    "donations_by_state_city = donations.groupby(['contbr_st', 'contbr_city', 'party'], as_index = False).sum()\n",
    "donations_by_state_city.drop('file_num', axis=1, inplace=True)\n",
    "donations_by_state_city"
   ]
  },
  {
   "cell_type": "markdown",
   "metadata": {},
   "source": [
    "As we can see the city names can have several typos, same cities are written with different spellings and the names will differ from the ones used by the census organization. To overcome these problems we will use fuzzy matching with the difflib library. We will try to match the reported city name with a 'place' (sumlevel 70) within the same state in the census data. If several places with similar names exist (eg Ankhorage, Ankhorage subarbs etc) we will pick the one with the largest population. This may take some time and memory."
   ]
  },
  {
   "cell_type": "code",
   "execution_count": null,
   "metadata": {
    "collapsed": false
   },
   "outputs": [],
   "source": [
    "def fuzzy_match(x):\n",
    "    a = difflib.get_close_matches(x[1], usgeo2010.NAME[(usgeo2010.STATE == x[0]) & ((usgeo2010.SUMLEV == 70) | (usgeo2010.SUMLEV == 70))].str.upper().unique(), n=1, cutoff = 0.5)\n",
    "    if len(a)>0:\n",
    "        return a[0]\n",
    "    else:\n",
    "        return None\n",
    "\n",
    "donations_by_state_city['fuzzy_name'] = donations_by_state_city.apply(fuzzy_match, axis=1)\n",
    "donations_by_state_city"
   ]
  },
  {
   "cell_type": "markdown",
   "metadata": {},
   "source": [
    "Any cities not matched in the census data will be considered minor cities and we will add this `SMALL CITY` indicator in place on `NaN`s."
   ]
  },
  {
   "cell_type": "code",
   "execution_count": null,
   "metadata": {
    "collapsed": false
   },
   "outputs": [],
   "source": [
    "donations_by_state_city.fillna(value='SMALL CITY', inplace=True)"
   ]
  },
  {
   "cell_type": "markdown",
   "metadata": {},
   "source": [
    "Again we will groupby state and city name and sum to sum the corrected city names"
   ]
  },
  {
   "cell_type": "code",
   "execution_count": null,
   "metadata": {
    "collapsed": false
   },
   "outputs": [],
   "source": [
    "donations_by_state_city = donations_by_state_city.groupby(['contbr_st', 'fuzzy_name', 'party'], as_index = False).sum()\n",
    "donations_by_state_city"
   ]
  },
  {
   "cell_type": "markdown",
   "metadata": {},
   "source": [
    "Now we will merge the donations data with the census data"
   ]
  },
  {
   "cell_type": "code",
   "execution_count": null,
   "metadata": {
    "collapsed": false
   },
   "outputs": [],
   "source": [
    "usgeo2010['NAME_UPPER'] = usgeo2010['NAME'].str.upper()\n",
    "donations_by_state_city=pandas.merge(left=donations_by_state_city, right=usgeo2010[['POP100', 'NAME_UPPER', 'STATE']][(usgeo2010.SUMLEV == 70)].sort_values('POP100', ascending=False).drop_duplicates(subset = ['NAME_UPPER', 'STATE'], keep = 'first'), left_on = ['contbr_st','fuzzy_name'], right_on = ['STATE','NAME_UPPER'], how = 'left')"
   ]
  },
  {
   "cell_type": "code",
   "execution_count": null,
   "metadata": {
    "collapsed": false
   },
   "outputs": [],
   "source": [
    "donations_by_state_city.fillna(value = 1, inplace=True)"
   ]
  },
  {
   "cell_type": "markdown",
   "metadata": {},
   "source": [
    "We will separate the cities in bins based on their size. We will use the same bins as the census organization:"
   ]
  },
  {
   "cell_type": "code",
   "execution_count": null,
   "metadata": {
    "collapsed": false
   },
   "outputs": [],
   "source": [
    "def bins(x):\n",
    "    if x[0] < 25000:\n",
    "        return '0-25000'\n",
    "    elif x[0] < 50000:\n",
    "        return '25000-50000'\n",
    "    elif x[0] < 100000:\n",
    "        return '50000-100000'\n",
    "    elif x[0] < 250000:\n",
    "        return '100000-250000'\n",
    "    elif x[0] < 500000:\n",
    "        return '250000-500000'\n",
    "    elif x[0] < 1000000:\n",
    "        return '500000-1000000'\n",
    "    elif x[0] < 2500000:\n",
    "        return '1000000-2500000'\n",
    "    else:\n",
    "        return '2500000+'\n",
    "\n",
    "donations_by_state_city['city_size'] = donations_by_state_city[['POP100']].apply(bins, axis=1)\n",
    "donations_by_state_city"
   ]
  },
  {
   "cell_type": "code",
   "execution_count": null,
   "metadata": {
    "collapsed": false
   },
   "outputs": [],
   "source": [
    "bins = [25000, 50000, 100000, 250000, 500000, 1000000, 2500000, 5000000, 10000000]\n",
    "ax = donations_by_state_city[(donations_by_state_city.contb_receipt_amt > 0) & (donations_by_state_city.party == 'Republican')].plot(kind='scatter', x='POP100', y='contb_receipt_amt', color='Red', label = 'Republicans')\n",
    "donations_by_state_city[(donations_by_state_city.contb_receipt_amt > 0) & (donations_by_state_city.party == 'Democrat')].plot(kind='scatter', x='POP100', y='contb_receipt_amt', color='Blue', label = 'Democrats', ax=ax)\n",
    "#donations_by_state_city[donations_by_state_city.contb_receipt_amt < 0]"
   ]
  },
  {
   "cell_type": "code",
   "execution_count": null,
   "metadata": {
    "collapsed": false
   },
   "outputs": [],
   "source": [
    "ax = donations_by_state_city[donations_by_state_city.party == 'Republican'].groupby(['city_size', 'party'], as_index=False).sum().drop('POP100', axis=1).plot(kind = 'bar', x='city_size', y='contb_receipt_amt', color = 'Red', label = 'Republicans', position=1)\n",
    "donations_by_state_city[donations_by_state_city.party == 'Democrat'].groupby(['city_size', 'party'], as_index=False).sum().drop('POP100', axis=1).plot(kind = 'bar', x='city_size', y='contb_receipt_amt', color = 'Blue', label = 'Democrats', ax=ax)\n",
    "donations_by_state_city.groupby(['city_size', 'party'], as_index=False).sum().drop('POP100', axis=1)"
   ]
  },
  {
   "cell_type": "markdown",
   "metadata": {},
   "source": [
    "As we can see in the barplot above the Democrats gathered much more donations in large and medium sized cities while the Republicans gathered many more donations in small towns."
   ]
  }
 ],
 "metadata": {
  "kernelspec": {
   "display_name": "Python 3",
   "language": "python",
   "name": "python3"
  },
  "language_info": {
   "codemirror_mode": {
    "name": "ipython",
    "version": 3
   },
   "file_extension": ".py",
   "mimetype": "text/x-python",
   "name": "python",
   "nbconvert_exporter": "python",
   "pygments_lexer": "ipython3",
   "version": "3.4.3"
  }
 },
 "nbformat": 4,
 "nbformat_minor": 0
}
